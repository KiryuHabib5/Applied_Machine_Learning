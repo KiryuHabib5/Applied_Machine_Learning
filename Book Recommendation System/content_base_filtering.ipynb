{
 "cells": [
  {
   "cell_type": "markdown",
   "id": "98541104",
   "metadata": {},
   "source": [
    "# Recomendation system : Book Recommendation "
   ]
  },
  {
   "cell_type": "markdown",
   "id": "d6bab91d",
   "metadata": {},
   "source": [
    "### Oleh : [Ahmad Habib Husaini](https://www.linkedin.com/in/ahmad-habib-husaini-1705711b0/)\n",
    "\n",
    "#### Pendahuluan\n",
    "Pada proyek ini, topik yang dibahas adalah mengenai pembuatan sistem rekomendasi dengan data book . Proyek ini dibuat untuk proyek Submission 2 - Machine Learning Terapan Dicoding."
   ]
  },
  {
   "cell_type": "markdown",
   "id": "7bdfa3eb",
   "metadata": {},
   "source": [
    "# 1. Import important package"
   ]
  },
  {
   "cell_type": "code",
   "execution_count": 1,
   "id": "1b0a1aa0",
   "metadata": {},
   "outputs": [],
   "source": [
    "import pandas as pd \n",
    "import numpy as np\n",
    "import matplotlib.pyplot as plt\n",
    "import seaborn as sns\n",
    "import opendatasets\n",
    "import wget\n",
    "import zipfile\n",
    "from tqdm import tqdm\n",
    "import os"
   ]
  },
  {
   "cell_type": "markdown",
   "id": "67f3cc28",
   "metadata": {},
   "source": [
    "# 2. Data loading"
   ]
  },
  {
   "cell_type": "markdown",
   "id": "2c6c3ce8",
   "metadata": {},
   "source": [
    "## 2.1 Data Acquisition"
   ]
  },
  {
   "cell_type": "code",
   "execution_count": 2,
   "id": "72dcc2f2",
   "metadata": {},
   "outputs": [
    {
     "name": "stdout",
     "output_type": "stream",
     "text": [
      "file sudah ada\n"
     ]
    }
   ],
   "source": [
    "if os.path.exists('book-recommendation-dataset'):\n",
    "    print(\"file sudah ada\")\n",
    "else:\n",
    "    opendatasets.download_kaggle_dataset(dataset_url='https://www.kaggle.com/arashnic/book-recommendation-dataset', data_dir='')"
   ]
  },
  {
   "cell_type": "markdown",
   "id": "76346ef3",
   "metadata": {},
   "source": [
    "Pada tahapan *data loading* berisikan akuisisi data dengan mengunduh dataset pada [link](https://www.kaggle.com/arashnic/book-recommendation-dataset) dengan menggunakan library `opendatasets` dengan sintaks seperti diatas. Ketika merunning code tersebut akan diminta mengisikan username dan key. \n",
    "1. username silahkan disisi dengan username *account* kaggle\n",
    "2. key didapatkan dengan :\n",
    "    1. Buka website [kaggle](https://www.kaggle.com/), \n",
    "    2. login dengan akun masing-masing. \n",
    "    3. Pilih your profile pada kanan atas \n",
    "    4. Pilih *account*\n",
    "    5. Scroll sedikit kebawah maka akan ada pilihan `Create new API token`\n",
    "    <img src=\"image/kaggle_token.png\" style=\"zoom:5%;\" /> <br>\n",
    "    6. Setelah menekan pilihan tersebut akan terunduh file kaggle.json yang berisikan username dan key"
   ]
  },
  {
   "cell_type": "markdown",
   "id": "d59d8df6",
   "metadata": {},
   "source": [
    "## 2.2 Memuat data dalam format Dataframe"
   ]
  },
  {
   "cell_type": "markdown",
   "id": "470a5fba",
   "metadata": {},
   "source": [
    "### 2.2.1 Book Dataframe "
   ]
  },
  {
   "cell_type": "code",
   "execution_count": 3,
   "id": "134f6825",
   "metadata": {
    "scrolled": true
   },
   "outputs": [
    {
     "name": "stderr",
     "output_type": "stream",
     "text": [
      "D:\\Pemrograman\\miniconda3\\envs\\my_env\\lib\\site-packages\\IPython\\core\\interactiveshell.py:3020: DtypeWarning: Columns (3) have mixed types. Specify dtype option on import or set low_memory=False.\n",
      "  interactivity=interactivity, compiler=compiler, result=result)\n"
     ]
    },
    {
     "data": {
      "text/html": [
       "<div>\n",
       "<style scoped>\n",
       "    .dataframe tbody tr th:only-of-type {\n",
       "        vertical-align: middle;\n",
       "    }\n",
       "\n",
       "    .dataframe tbody tr th {\n",
       "        vertical-align: top;\n",
       "    }\n",
       "\n",
       "    .dataframe thead th {\n",
       "        text-align: right;\n",
       "    }\n",
       "</style>\n",
       "<table border=\"1\" class=\"dataframe\">\n",
       "  <thead>\n",
       "    <tr style=\"text-align: right;\">\n",
       "      <th></th>\n",
       "      <th>ISBN</th>\n",
       "      <th>Book-Title</th>\n",
       "      <th>Book-Author</th>\n",
       "      <th>Year-Of-Publication</th>\n",
       "      <th>Publisher</th>\n",
       "      <th>Image-URL-S</th>\n",
       "      <th>Image-URL-M</th>\n",
       "      <th>Image-URL-L</th>\n",
       "    </tr>\n",
       "  </thead>\n",
       "  <tbody>\n",
       "    <tr>\n",
       "      <th>0</th>\n",
       "      <td>0195153448</td>\n",
       "      <td>Classical Mythology</td>\n",
       "      <td>Mark P. O. Morford</td>\n",
       "      <td>2002</td>\n",
       "      <td>Oxford University Press</td>\n",
       "      <td>http://images.amazon.com/images/P/0195153448.0...</td>\n",
       "      <td>http://images.amazon.com/images/P/0195153448.0...</td>\n",
       "      <td>http://images.amazon.com/images/P/0195153448.0...</td>\n",
       "    </tr>\n",
       "    <tr>\n",
       "      <th>1</th>\n",
       "      <td>0002005018</td>\n",
       "      <td>Clara Callan</td>\n",
       "      <td>Richard Bruce Wright</td>\n",
       "      <td>2001</td>\n",
       "      <td>HarperFlamingo Canada</td>\n",
       "      <td>http://images.amazon.com/images/P/0002005018.0...</td>\n",
       "      <td>http://images.amazon.com/images/P/0002005018.0...</td>\n",
       "      <td>http://images.amazon.com/images/P/0002005018.0...</td>\n",
       "    </tr>\n",
       "    <tr>\n",
       "      <th>2</th>\n",
       "      <td>0060973129</td>\n",
       "      <td>Decision in Normandy</td>\n",
       "      <td>Carlo D'Este</td>\n",
       "      <td>1991</td>\n",
       "      <td>HarperPerennial</td>\n",
       "      <td>http://images.amazon.com/images/P/0060973129.0...</td>\n",
       "      <td>http://images.amazon.com/images/P/0060973129.0...</td>\n",
       "      <td>http://images.amazon.com/images/P/0060973129.0...</td>\n",
       "    </tr>\n",
       "  </tbody>\n",
       "</table>\n",
       "</div>"
      ],
      "text/plain": [
       "         ISBN            Book-Title           Book-Author Year-Of-Publication  \\\n",
       "0  0195153448   Classical Mythology    Mark P. O. Morford                2002   \n",
       "1  0002005018          Clara Callan  Richard Bruce Wright                2001   \n",
       "2  0060973129  Decision in Normandy          Carlo D'Este                1991   \n",
       "\n",
       "                 Publisher                                        Image-URL-S  \\\n",
       "0  Oxford University Press  http://images.amazon.com/images/P/0195153448.0...   \n",
       "1    HarperFlamingo Canada  http://images.amazon.com/images/P/0002005018.0...   \n",
       "2          HarperPerennial  http://images.amazon.com/images/P/0060973129.0...   \n",
       "\n",
       "                                         Image-URL-M  \\\n",
       "0  http://images.amazon.com/images/P/0195153448.0...   \n",
       "1  http://images.amazon.com/images/P/0002005018.0...   \n",
       "2  http://images.amazon.com/images/P/0060973129.0...   \n",
       "\n",
       "                                         Image-URL-L  \n",
       "0  http://images.amazon.com/images/P/0195153448.0...  \n",
       "1  http://images.amazon.com/images/P/0002005018.0...  \n",
       "2  http://images.amazon.com/images/P/0060973129.0...  "
      ]
     },
     "execution_count": 3,
     "metadata": {},
     "output_type": "execute_result"
    }
   ],
   "source": [
    "df_book = pd.read_csv('book-recommendation-dataset/Books.csv')\n",
    "df_book.head(3)"
   ]
  },
  {
   "cell_type": "markdown",
   "id": "ba078525",
   "metadata": {},
   "source": [
    "### 2.2.2 Rating Dataframe"
   ]
  },
  {
   "cell_type": "code",
   "execution_count": 4,
   "id": "a3224279",
   "metadata": {
    "scrolled": true
   },
   "outputs": [
    {
     "data": {
      "text/html": [
       "<div>\n",
       "<style scoped>\n",
       "    .dataframe tbody tr th:only-of-type {\n",
       "        vertical-align: middle;\n",
       "    }\n",
       "\n",
       "    .dataframe tbody tr th {\n",
       "        vertical-align: top;\n",
       "    }\n",
       "\n",
       "    .dataframe thead th {\n",
       "        text-align: right;\n",
       "    }\n",
       "</style>\n",
       "<table border=\"1\" class=\"dataframe\">\n",
       "  <thead>\n",
       "    <tr style=\"text-align: right;\">\n",
       "      <th></th>\n",
       "      <th>User-ID</th>\n",
       "      <th>ISBN</th>\n",
       "      <th>Book-Rating</th>\n",
       "    </tr>\n",
       "  </thead>\n",
       "  <tbody>\n",
       "    <tr>\n",
       "      <th>0</th>\n",
       "      <td>276725</td>\n",
       "      <td>034545104X</td>\n",
       "      <td>0</td>\n",
       "    </tr>\n",
       "    <tr>\n",
       "      <th>1</th>\n",
       "      <td>276726</td>\n",
       "      <td>0155061224</td>\n",
       "      <td>5</td>\n",
       "    </tr>\n",
       "    <tr>\n",
       "      <th>2</th>\n",
       "      <td>276727</td>\n",
       "      <td>0446520802</td>\n",
       "      <td>0</td>\n",
       "    </tr>\n",
       "  </tbody>\n",
       "</table>\n",
       "</div>"
      ],
      "text/plain": [
       "   User-ID        ISBN  Book-Rating\n",
       "0   276725  034545104X            0\n",
       "1   276726  0155061224            5\n",
       "2   276727  0446520802            0"
      ]
     },
     "execution_count": 4,
     "metadata": {},
     "output_type": "execute_result"
    }
   ],
   "source": [
    "df_rating = pd.read_csv('book-recommendation-dataset/Ratings.csv')\n",
    "df_rating.head(3)"
   ]
  },
  {
   "cell_type": "markdown",
   "id": "126f86ee",
   "metadata": {},
   "source": [
    "### 2.2.4 User Dataframe"
   ]
  },
  {
   "cell_type": "code",
   "execution_count": 5,
   "id": "468d7fe8",
   "metadata": {
    "scrolled": false
   },
   "outputs": [
    {
     "data": {
      "text/html": [
       "<div>\n",
       "<style scoped>\n",
       "    .dataframe tbody tr th:only-of-type {\n",
       "        vertical-align: middle;\n",
       "    }\n",
       "\n",
       "    .dataframe tbody tr th {\n",
       "        vertical-align: top;\n",
       "    }\n",
       "\n",
       "    .dataframe thead th {\n",
       "        text-align: right;\n",
       "    }\n",
       "</style>\n",
       "<table border=\"1\" class=\"dataframe\">\n",
       "  <thead>\n",
       "    <tr style=\"text-align: right;\">\n",
       "      <th></th>\n",
       "      <th>User-ID</th>\n",
       "      <th>Location</th>\n",
       "      <th>Age</th>\n",
       "    </tr>\n",
       "  </thead>\n",
       "  <tbody>\n",
       "    <tr>\n",
       "      <th>278855</th>\n",
       "      <td>278856</td>\n",
       "      <td>brampton, ontario, canada</td>\n",
       "      <td>NaN</td>\n",
       "    </tr>\n",
       "    <tr>\n",
       "      <th>278856</th>\n",
       "      <td>278857</td>\n",
       "      <td>knoxville, tennessee, usa</td>\n",
       "      <td>NaN</td>\n",
       "    </tr>\n",
       "    <tr>\n",
       "      <th>278857</th>\n",
       "      <td>278858</td>\n",
       "      <td>dublin, n/a, ireland</td>\n",
       "      <td>NaN</td>\n",
       "    </tr>\n",
       "  </tbody>\n",
       "</table>\n",
       "</div>"
      ],
      "text/plain": [
       "        User-ID                   Location  Age\n",
       "278855   278856  brampton, ontario, canada  NaN\n",
       "278856   278857  knoxville, tennessee, usa  NaN\n",
       "278857   278858       dublin, n/a, ireland  NaN"
      ]
     },
     "execution_count": 5,
     "metadata": {},
     "output_type": "execute_result"
    }
   ],
   "source": [
    "df_user = pd.read_csv('book-recommendation-dataset/Users.csv')\n",
    "df_user.tail(3)"
   ]
  },
  {
   "cell_type": "markdown",
   "id": "35516f80",
   "metadata": {},
   "source": [
    "# 3. Data Understanding"
   ]
  },
  {
   "cell_type": "markdown",
   "id": "6f17e84d",
   "metadata": {},
   "source": [
    "## 3.1 Informasi dataset"
   ]
  },
  {
   "attachments": {
    "image.png": {
     "image/png": "[encoded data removed]"
    }
   },
   "cell_type": "markdown",
   "id": "c298cf69",
   "metadata": {},
   "source": [
    "![image/kaggle_dataset.png](attachment:image.png)<br>\n",
    "Pada berkas yang dapat diunduh pada link [berikut](https://www.kaggle.com/arashnic/book-recommendation-dataset?select=Users.csv) berisikan dataset berjumlah 3 buah file yakni Book.csv, Rating.csv dan User.csv\n"
   ]
  },
  {
   "cell_type": "markdown",
   "id": "03df2098",
   "metadata": {},
   "source": [
    "### 3.1.1 Book\n",
    "\n",
    "Berisikan data sebanyak 271360 baris dan 8 kolom yang terdiri dari: <br>\n",
    "\n",
    "Kolom  | Keterangan\n",
    ":------------- | :-------------\n",
    "Sumber  | https://www.kaggle.com/arashnic/book-recommendation-dataset?select=Books.csv\n",
    "ISBN | International Standard Book Number merupakan kode unik masing masing buku\n",
    "Book-title | Merupakan judul dari tiap buku\n",
    "Book-Author | Merupakan penulis atau pengarang tiap buku\n",
    "Year-Of_Publication |Merupakan tahun terbit tiap buku\n",
    "Publisher | Merupakan lebaga penerbit tiap buku\n",
    "Image-URL-S | Link foto dari tiap buku berukuran kecil\n",
    "Image-URL-M | Link foto dari tiap buku berukuran sedang\n",
    "Image-URL-L | Link foto dari tiap buku berukuran besar"
   ]
  },
  {
   "cell_type": "markdown",
   "id": "efa5bda8",
   "metadata": {},
   "source": [
    "### 3.1.2 Rating\n",
    "Berisikan data sebanyak 1149780 baris dan 3 kolom yang terdiri dari:\n",
    "\n",
    "Kolom  | Keterangan\n",
    ":------------- | :-------------\n",
    "Sumber  | https://www.kaggle.com/arashnic/book-recommendation-dataset?select=Ratings.csv\n",
    "User-ID | Merupakan kode unik tiap user\n",
    "ISBN | International Standard Book Number merupakan kode unik masing masing buku\n",
    "Book-Rating |Merupakan rating dari tiap buku"
   ]
  },
  {
   "cell_type": "markdown",
   "id": "ba9c6c35",
   "metadata": {},
   "source": [
    "### 3.1.3 User\n",
    "\n",
    "Berisikan data sebanyak 278858 baris dan 4 kolom yang terdiri dari: <br>\n",
    "\n",
    "Kolom  | Keterangan\n",
    ":------------- | :-------------\n",
    "Sumber  | https://www.kaggle.com/arashnic/book-recommendation-dataset?select=Users.csv\n",
    "User-ID | Merupakan kode unik tiap user\n",
    "Age | Merupakan umur tiap user\n",
    "Location |Merupakan lokasi tiap user "
   ]
  },
  {
   "cell_type": "markdown",
   "id": "4af65d60",
   "metadata": {},
   "source": [
    "## 3.2 Cek Missing Values, tipe data & summary statistical descriptive"
   ]
  },
  {
   "cell_type": "markdown",
   "id": "b7d9f7a8",
   "metadata": {},
   "source": [
    "### 3.2.1 Book"
   ]
  },
  {
   "cell_type": "code",
   "execution_count": 6,
   "id": "8f7cf485",
   "metadata": {},
   "outputs": [
    {
     "data": {
      "text/html": [
       "<div>\n",
       "<style scoped>\n",
       "    .dataframe tbody tr th:only-of-type {\n",
       "        vertical-align: middle;\n",
       "    }\n",
       "\n",
       "    .dataframe tbody tr th {\n",
       "        vertical-align: top;\n",
       "    }\n",
       "\n",
       "    .dataframe thead th {\n",
       "        text-align: right;\n",
       "    }\n",
       "</style>\n",
       "<table border=\"1\" class=\"dataframe\">\n",
       "  <thead>\n",
       "    <tr style=\"text-align: right;\">\n",
       "      <th></th>\n",
       "      <th>missing_values</th>\n",
       "    </tr>\n",
       "  </thead>\n",
       "  <tbody>\n",
       "    <tr>\n",
       "      <th>ISBN</th>\n",
       "      <td>0</td>\n",
       "    </tr>\n",
       "    <tr>\n",
       "      <th>Book-Title</th>\n",
       "      <td>0</td>\n",
       "    </tr>\n",
       "    <tr>\n",
       "      <th>Book-Author</th>\n",
       "      <td>1</td>\n",
       "    </tr>\n",
       "    <tr>\n",
       "      <th>Year-Of-Publication</th>\n",
       "      <td>0</td>\n",
       "    </tr>\n",
       "    <tr>\n",
       "      <th>Publisher</th>\n",
       "      <td>2</td>\n",
       "    </tr>\n",
       "    <tr>\n",
       "      <th>Image-URL-S</th>\n",
       "      <td>0</td>\n",
       "    </tr>\n",
       "    <tr>\n",
       "      <th>Image-URL-M</th>\n",
       "      <td>0</td>\n",
       "    </tr>\n",
       "    <tr>\n",
       "      <th>Image-URL-L</th>\n",
       "      <td>3</td>\n",
       "    </tr>\n",
       "  </tbody>\n",
       "</table>\n",
       "</div>"
      ],
      "text/plain": [
       "                     missing_values\n",
       "ISBN                              0\n",
       "Book-Title                        0\n",
       "Book-Author                       1\n",
       "Year-Of-Publication               0\n",
       "Publisher                         2\n",
       "Image-URL-S                       0\n",
       "Image-URL-M                       0\n",
       "Image-URL-L                       3"
      ]
     },
     "execution_count": 6,
     "metadata": {},
     "output_type": "execute_result"
    }
   ],
   "source": [
    "pd.DataFrame(df_book.isnull().sum(), columns=['missing_values'])"
   ]
  },
  {
   "cell_type": "code",
   "execution_count": 7,
   "id": "368a6e4c",
   "metadata": {},
   "outputs": [
    {
     "name": "stdout",
     "output_type": "stream",
     "text": [
      "<class 'pandas.core.frame.DataFrame'>\n",
      "RangeIndex: 271360 entries, 0 to 271359\n",
      "Data columns (total 8 columns):\n",
      "ISBN                   271360 non-null object\n",
      "Book-Title             271360 non-null object\n",
      "Book-Author            271359 non-null object\n",
      "Year-Of-Publication    271360 non-null object\n",
      "Publisher              271358 non-null object\n",
      "Image-URL-S            271360 non-null object\n",
      "Image-URL-M            271360 non-null object\n",
      "Image-URL-L            271357 non-null object\n",
      "dtypes: object(8)\n",
      "memory usage: 16.6+ MB\n"
     ]
    }
   ],
   "source": [
    "df_book.info()"
   ]
  },
  {
   "cell_type": "code",
   "execution_count": 8,
   "id": "bba57cab",
   "metadata": {
    "scrolled": true
   },
   "outputs": [
    {
     "data": {
      "text/html": [
       "<div>\n",
       "<style scoped>\n",
       "    .dataframe tbody tr th:only-of-type {\n",
       "        vertical-align: middle;\n",
       "    }\n",
       "\n",
       "    .dataframe tbody tr th {\n",
       "        vertical-align: top;\n",
       "    }\n",
       "\n",
       "    .dataframe thead th {\n",
       "        text-align: right;\n",
       "    }\n",
       "</style>\n",
       "<table border=\"1\" class=\"dataframe\">\n",
       "  <thead>\n",
       "    <tr style=\"text-align: right;\">\n",
       "      <th></th>\n",
       "      <th>ISBN</th>\n",
       "      <th>Book-Title</th>\n",
       "      <th>Book-Author</th>\n",
       "      <th>Year-Of-Publication</th>\n",
       "      <th>Publisher</th>\n",
       "    </tr>\n",
       "  </thead>\n",
       "  <tbody>\n",
       "    <tr>\n",
       "      <th>count</th>\n",
       "      <td>271360</td>\n",
       "      <td>271360</td>\n",
       "      <td>271359</td>\n",
       "      <td>271360</td>\n",
       "      <td>271358</td>\n",
       "    </tr>\n",
       "    <tr>\n",
       "      <th>unique</th>\n",
       "      <td>271360</td>\n",
       "      <td>242135</td>\n",
       "      <td>102023</td>\n",
       "      <td>202</td>\n",
       "      <td>16807</td>\n",
       "    </tr>\n",
       "    <tr>\n",
       "      <th>top</th>\n",
       "      <td>0864424655</td>\n",
       "      <td>Selected Poems</td>\n",
       "      <td>Agatha Christie</td>\n",
       "      <td>2002</td>\n",
       "      <td>Harlequin</td>\n",
       "    </tr>\n",
       "    <tr>\n",
       "      <th>freq</th>\n",
       "      <td>1</td>\n",
       "      <td>27</td>\n",
       "      <td>632</td>\n",
       "      <td>13903</td>\n",
       "      <td>7535</td>\n",
       "    </tr>\n",
       "  </tbody>\n",
       "</table>\n",
       "</div>"
      ],
      "text/plain": [
       "              ISBN      Book-Title      Book-Author  Year-Of-Publication  \\\n",
       "count       271360          271360           271359               271360   \n",
       "unique      271360          242135           102023                  202   \n",
       "top     0864424655  Selected Poems  Agatha Christie                 2002   \n",
       "freq             1              27              632                13903   \n",
       "\n",
       "        Publisher  \n",
       "count      271358  \n",
       "unique      16807  \n",
       "top     Harlequin  \n",
       "freq         7535  "
      ]
     },
     "execution_count": 8,
     "metadata": {},
     "output_type": "execute_result"
    }
   ],
   "source": [
    "df_book.loc[:,:'Publisher'].describe(include=object)"
   ]
  },
  {
   "cell_type": "markdown",
   "id": "cba00479",
   "metadata": {},
   "source": [
    "### 3.2.2 Rating"
   ]
  },
  {
   "cell_type": "code",
   "execution_count": 9,
   "id": "55e43c9b",
   "metadata": {},
   "outputs": [
    {
     "data": {
      "text/html": [
       "<div>\n",
       "<style scoped>\n",
       "    .dataframe tbody tr th:only-of-type {\n",
       "        vertical-align: middle;\n",
       "    }\n",
       "\n",
       "    .dataframe tbody tr th {\n",
       "        vertical-align: top;\n",
       "    }\n",
       "\n",
       "    .dataframe thead th {\n",
       "        text-align: right;\n",
       "    }\n",
       "</style>\n",
       "<table border=\"1\" class=\"dataframe\">\n",
       "  <thead>\n",
       "    <tr style=\"text-align: right;\">\n",
       "      <th></th>\n",
       "      <th>missing_values</th>\n",
       "    </tr>\n",
       "  </thead>\n",
       "  <tbody>\n",
       "    <tr>\n",
       "      <th>User-ID</th>\n",
       "      <td>0</td>\n",
       "    </tr>\n",
       "    <tr>\n",
       "      <th>ISBN</th>\n",
       "      <td>0</td>\n",
       "    </tr>\n",
       "    <tr>\n",
       "      <th>Book-Rating</th>\n",
       "      <td>0</td>\n",
       "    </tr>\n",
       "  </tbody>\n",
       "</table>\n",
       "</div>"
      ],
      "text/plain": [
       "             missing_values\n",
       "User-ID                   0\n",
       "ISBN                      0\n",
       "Book-Rating               0"
      ]
     },
     "execution_count": 9,
     "metadata": {},
     "output_type": "execute_result"
    }
   ],
   "source": [
    "pd.DataFrame(df_rating.isnull().sum(), columns=['missing_values'])"
   ]
  },
  {
   "cell_type": "code",
   "execution_count": 10,
   "id": "2ce5db31",
   "metadata": {},
   "outputs": [
    {
     "name": "stdout",
     "output_type": "stream",
     "text": [
      "<class 'pandas.core.frame.DataFrame'>\n",
      "RangeIndex: 1149780 entries, 0 to 1149779\n",
      "Data columns (total 3 columns):\n",
      "User-ID        1149780 non-null int64\n",
      "ISBN           1149780 non-null object\n",
      "Book-Rating    1149780 non-null int64\n",
      "dtypes: int64(2), object(1)\n",
      "memory usage: 26.3+ MB\n"
     ]
    }
   ],
   "source": [
    "df_rating.info()"
   ]
  },
  {
   "cell_type": "code",
   "execution_count": 11,
   "id": "c8b25a29",
   "metadata": {},
   "outputs": [
    {
     "data": {
      "text/html": [
       "<div>\n",
       "<style scoped>\n",
       "    .dataframe tbody tr th:only-of-type {\n",
       "        vertical-align: middle;\n",
       "    }\n",
       "\n",
       "    .dataframe tbody tr th {\n",
       "        vertical-align: top;\n",
       "    }\n",
       "\n",
       "    .dataframe thead th {\n",
       "        text-align: right;\n",
       "    }\n",
       "</style>\n",
       "<table border=\"1\" class=\"dataframe\">\n",
       "  <thead>\n",
       "    <tr style=\"text-align: right;\">\n",
       "      <th></th>\n",
       "      <th>Book-Rating</th>\n",
       "    </tr>\n",
       "  </thead>\n",
       "  <tbody>\n",
       "    <tr>\n",
       "      <th>count</th>\n",
       "      <td>1.149780e+06</td>\n",
       "    </tr>\n",
       "    <tr>\n",
       "      <th>mean</th>\n",
       "      <td>2.866950e+00</td>\n",
       "    </tr>\n",
       "    <tr>\n",
       "      <th>std</th>\n",
       "      <td>3.854184e+00</td>\n",
       "    </tr>\n",
       "    <tr>\n",
       "      <th>min</th>\n",
       "      <td>0.000000e+00</td>\n",
       "    </tr>\n",
       "    <tr>\n",
       "      <th>25%</th>\n",
       "      <td>0.000000e+00</td>\n",
       "    </tr>\n",
       "    <tr>\n",
       "      <th>50%</th>\n",
       "      <td>0.000000e+00</td>\n",
       "    </tr>\n",
       "    <tr>\n",
       "      <th>75%</th>\n",
       "      <td>7.000000e+00</td>\n",
       "    </tr>\n",
       "    <tr>\n",
       "      <th>max</th>\n",
       "      <td>1.000000e+01</td>\n",
       "    </tr>\n",
       "  </tbody>\n",
       "</table>\n",
       "</div>"
      ],
      "text/plain": [
       "        Book-Rating\n",
       "count  1.149780e+06\n",
       "mean   2.866950e+00\n",
       "std    3.854184e+00\n",
       "min    0.000000e+00\n",
       "25%    0.000000e+00\n",
       "50%    0.000000e+00\n",
       "75%    7.000000e+00\n",
       "max    1.000000e+01"
      ]
     },
     "execution_count": 11,
     "metadata": {},
     "output_type": "execute_result"
    }
   ],
   "source": [
    "df_rating[['Book-Rating']].describe()"
   ]
  },
  {
   "cell_type": "code",
   "execution_count": 12,
   "id": "b772b437",
   "metadata": {},
   "outputs": [],
   "source": [
    "df_rating['Book-Rating'] = df_rating['Book-Rating'].astype(object)"
   ]
  },
  {
   "cell_type": "code",
   "execution_count": 13,
   "id": "79be5e69",
   "metadata": {},
   "outputs": [
    {
     "data": {
      "text/html": [
       "<div>\n",
       "<style scoped>\n",
       "    .dataframe tbody tr th:only-of-type {\n",
       "        vertical-align: middle;\n",
       "    }\n",
       "\n",
       "    .dataframe tbody tr th {\n",
       "        vertical-align: top;\n",
       "    }\n",
       "\n",
       "    .dataframe thead th {\n",
       "        text-align: right;\n",
       "    }\n",
       "</style>\n",
       "<table border=\"1\" class=\"dataframe\">\n",
       "  <thead>\n",
       "    <tr style=\"text-align: right;\">\n",
       "      <th></th>\n",
       "      <th>ISBN</th>\n",
       "      <th>Book-Rating</th>\n",
       "    </tr>\n",
       "  </thead>\n",
       "  <tbody>\n",
       "    <tr>\n",
       "      <th>count</th>\n",
       "      <td>1149780</td>\n",
       "      <td>1149780</td>\n",
       "    </tr>\n",
       "    <tr>\n",
       "      <th>unique</th>\n",
       "      <td>340556</td>\n",
       "      <td>11</td>\n",
       "    </tr>\n",
       "    <tr>\n",
       "      <th>top</th>\n",
       "      <td>0971880107</td>\n",
       "      <td>0</td>\n",
       "    </tr>\n",
       "    <tr>\n",
       "      <th>freq</th>\n",
       "      <td>2502</td>\n",
       "      <td>716109</td>\n",
       "    </tr>\n",
       "  </tbody>\n",
       "</table>\n",
       "</div>"
      ],
      "text/plain": [
       "              ISBN  Book-Rating\n",
       "count      1149780      1149780\n",
       "unique      340556           11\n",
       "top     0971880107            0\n",
       "freq          2502       716109"
      ]
     },
     "execution_count": 13,
     "metadata": {},
     "output_type": "execute_result"
    }
   ],
   "source": [
    "df_rating.describe(include=[object])"
   ]
  },
  {
   "cell_type": "code",
   "execution_count": 14,
   "id": "bbd1514f",
   "metadata": {},
   "outputs": [
    {
     "name": "stdout",
     "output_type": "stream",
     "text": [
      "<class 'pandas.core.frame.DataFrame'>\n",
      "RangeIndex: 1149780 entries, 0 to 1149779\n",
      "Data columns (total 3 columns):\n",
      "User-ID        1149780 non-null int64\n",
      "ISBN           1149780 non-null object\n",
      "Book-Rating    1149780 non-null object\n",
      "dtypes: int64(1), object(2)\n",
      "memory usage: 26.3+ MB\n"
     ]
    }
   ],
   "source": [
    "df_rating.info()"
   ]
  },
  {
   "cell_type": "markdown",
   "id": "81ea73af",
   "metadata": {},
   "source": [
    "### 3.2.3 User"
   ]
  },
  {
   "cell_type": "code",
   "execution_count": 15,
   "id": "be20b7ab",
   "metadata": {},
   "outputs": [
    {
     "data": {
      "text/html": [
       "<div>\n",
       "<style scoped>\n",
       "    .dataframe tbody tr th:only-of-type {\n",
       "        vertical-align: middle;\n",
       "    }\n",
       "\n",
       "    .dataframe tbody tr th {\n",
       "        vertical-align: top;\n",
       "    }\n",
       "\n",
       "    .dataframe thead th {\n",
       "        text-align: right;\n",
       "    }\n",
       "</style>\n",
       "<table border=\"1\" class=\"dataframe\">\n",
       "  <thead>\n",
       "    <tr style=\"text-align: right;\">\n",
       "      <th></th>\n",
       "      <th>User-ID</th>\n",
       "      <th>Location</th>\n",
       "      <th>Age</th>\n",
       "    </tr>\n",
       "  </thead>\n",
       "  <tbody>\n",
       "    <tr>\n",
       "      <th>0</th>\n",
       "      <td>1</td>\n",
       "      <td>nyc, new york, usa</td>\n",
       "      <td>NaN</td>\n",
       "    </tr>\n",
       "    <tr>\n",
       "      <th>1</th>\n",
       "      <td>2</td>\n",
       "      <td>stockton, california, usa</td>\n",
       "      <td>18.0</td>\n",
       "    </tr>\n",
       "    <tr>\n",
       "      <th>2</th>\n",
       "      <td>3</td>\n",
       "      <td>moscow, yukon territory, russia</td>\n",
       "      <td>NaN</td>\n",
       "    </tr>\n",
       "    <tr>\n",
       "      <th>3</th>\n",
       "      <td>4</td>\n",
       "      <td>porto, v.n.gaia, portugal</td>\n",
       "      <td>17.0</td>\n",
       "    </tr>\n",
       "    <tr>\n",
       "      <th>4</th>\n",
       "      <td>5</td>\n",
       "      <td>farnborough, hants, united kingdom</td>\n",
       "      <td>NaN</td>\n",
       "    </tr>\n",
       "  </tbody>\n",
       "</table>\n",
       "</div>"
      ],
      "text/plain": [
       "   User-ID                            Location   Age\n",
       "0        1                  nyc, new york, usa   NaN\n",
       "1        2           stockton, california, usa  18.0\n",
       "2        3     moscow, yukon territory, russia   NaN\n",
       "3        4           porto, v.n.gaia, portugal  17.0\n",
       "4        5  farnborough, hants, united kingdom   NaN"
      ]
     },
     "execution_count": 15,
     "metadata": {},
     "output_type": "execute_result"
    }
   ],
   "source": [
    "df_user.head()"
   ]
  },
  {
   "cell_type": "code",
   "execution_count": 16,
   "id": "22c12469",
   "metadata": {},
   "outputs": [
    {
     "data": {
      "text/plain": [
       "array(['nyc, new york, usa', 'stockton, california, usa',\n",
       "       'moscow, yukon territory, russia', ...,\n",
       "       'sergnano, lombardia, italy', 'stranraer, n/a, united kingdom',\n",
       "       'tacoma, washington, united kingdom'], dtype=object)"
      ]
     },
     "execution_count": 16,
     "metadata": {},
     "output_type": "execute_result"
    }
   ],
   "source": [
    "df_user.Location.unique()"
   ]
  },
  {
   "cell_type": "code",
   "execution_count": 17,
   "id": "47e6b8f3",
   "metadata": {
    "scrolled": false
   },
   "outputs": [
    {
     "data": {
      "text/plain": [
       "array(['nyc', 'stockton', 'moscow', ..., 'llangollen', 'sergnano',\n",
       "       'stranraer'], dtype=object)"
      ]
     },
     "execution_count": 17,
     "metadata": {},
     "output_type": "execute_result"
    }
   ],
   "source": [
    "df_user.Location.str.split(',',expand=True).loc[:,:2][0].unique()"
   ]
  },
  {
   "cell_type": "code",
   "execution_count": 18,
   "id": "c8878481",
   "metadata": {},
   "outputs": [
    {
     "data": {
      "text/plain": [
       "32770"
      ]
     },
     "execution_count": 18,
     "metadata": {},
     "output_type": "execute_result"
    }
   ],
   "source": [
    "len(df_user.Location.str.split(',',expand=True).loc[:,:2][0].unique())"
   ]
  },
  {
   "cell_type": "code",
   "execution_count": 19,
   "id": "3e5d7168",
   "metadata": {},
   "outputs": [
    {
     "data": {
      "text/plain": [
       "array([' new york', ' california', ' yukon territory', ..., ' co.donegal',\n",
       "       ' ±±¾©', ' denbighshire county'], dtype=object)"
      ]
     },
     "execution_count": 19,
     "metadata": {},
     "output_type": "execute_result"
    }
   ],
   "source": [
    "df_user.Location.str.split(',',expand=True).loc[:,:2][1].unique()"
   ]
  },
  {
   "cell_type": "code",
   "execution_count": 20,
   "id": "eb2e56a6",
   "metadata": {},
   "outputs": [
    {
     "data": {
      "text/plain": [
       "6335"
      ]
     },
     "execution_count": 20,
     "metadata": {},
     "output_type": "execute_result"
    }
   ],
   "source": [
    "len(df_user.Location.str.split(',',expand=True).loc[:,:2][1].unique())"
   ]
  },
  {
   "cell_type": "code",
   "execution_count": 21,
   "id": "28f771fd",
   "metadata": {
    "scrolled": true
   },
   "outputs": [
    {
     "data": {
      "text/html": [
       "<div>\n",
       "<style scoped>\n",
       "    .dataframe tbody tr th:only-of-type {\n",
       "        vertical-align: middle;\n",
       "    }\n",
       "\n",
       "    .dataframe tbody tr th {\n",
       "        vertical-align: top;\n",
       "    }\n",
       "\n",
       "    .dataframe thead th {\n",
       "        text-align: right;\n",
       "    }\n",
       "</style>\n",
       "<table border=\"1\" class=\"dataframe\">\n",
       "  <thead>\n",
       "    <tr style=\"text-align: right;\">\n",
       "      <th></th>\n",
       "      <th>User-ID</th>\n",
       "      <th>Location</th>\n",
       "      <th>Age</th>\n",
       "      <th>city</th>\n",
       "      <th>country</th>\n",
       "    </tr>\n",
       "  </thead>\n",
       "  <tbody>\n",
       "    <tr>\n",
       "      <th>0</th>\n",
       "      <td>1</td>\n",
       "      <td>nyc, new york, usa</td>\n",
       "      <td>NaN</td>\n",
       "      <td>nyc</td>\n",
       "      <td>usa</td>\n",
       "    </tr>\n",
       "    <tr>\n",
       "      <th>1</th>\n",
       "      <td>2</td>\n",
       "      <td>stockton, california, usa</td>\n",
       "      <td>18.0</td>\n",
       "      <td>stockton</td>\n",
       "      <td>usa</td>\n",
       "    </tr>\n",
       "    <tr>\n",
       "      <th>2</th>\n",
       "      <td>3</td>\n",
       "      <td>moscow, yukon territory, russia</td>\n",
       "      <td>NaN</td>\n",
       "      <td>moscow</td>\n",
       "      <td>russia</td>\n",
       "    </tr>\n",
       "    <tr>\n",
       "      <th>3</th>\n",
       "      <td>4</td>\n",
       "      <td>porto, v.n.gaia, portugal</td>\n",
       "      <td>17.0</td>\n",
       "      <td>porto</td>\n",
       "      <td>portugal</td>\n",
       "    </tr>\n",
       "    <tr>\n",
       "      <th>4</th>\n",
       "      <td>5</td>\n",
       "      <td>farnborough, hants, united kingdom</td>\n",
       "      <td>NaN</td>\n",
       "      <td>farnborough</td>\n",
       "      <td>united kingdom</td>\n",
       "    </tr>\n",
       "  </tbody>\n",
       "</table>\n",
       "</div>"
      ],
      "text/plain": [
       "   User-ID                            Location   Age         city  \\\n",
       "0        1                  nyc, new york, usa   NaN          nyc   \n",
       "1        2           stockton, california, usa  18.0     stockton   \n",
       "2        3     moscow, yukon territory, russia   NaN       moscow   \n",
       "3        4           porto, v.n.gaia, portugal  17.0        porto   \n",
       "4        5  farnborough, hants, united kingdom   NaN  farnborough   \n",
       "\n",
       "           country  \n",
       "0              usa  \n",
       "1              usa  \n",
       "2           russia  \n",
       "3         portugal  \n",
       "4   united kingdom  "
      ]
     },
     "execution_count": 21,
     "metadata": {},
     "output_type": "execute_result"
    }
   ],
   "source": [
    "df_user['city'] = df_user.Location.str.split(',',expand=True)[0]\n",
    "# df_user['nation_state'] = df_user.Location.str.split(',',expand=True)[1]\n",
    "df_user['country'] = df_user.Location.str.split(',',expand=True)[2]\n",
    "df_user.head()"
   ]
  },
  {
   "cell_type": "code",
   "execution_count": 22,
   "id": "f11e75a8",
   "metadata": {},
   "outputs": [
    {
     "data": {
      "text/html": [
       "<div>\n",
       "<style scoped>\n",
       "    .dataframe tbody tr th:only-of-type {\n",
       "        vertical-align: middle;\n",
       "    }\n",
       "\n",
       "    .dataframe tbody tr th {\n",
       "        vertical-align: top;\n",
       "    }\n",
       "\n",
       "    .dataframe thead th {\n",
       "        text-align: right;\n",
       "    }\n",
       "</style>\n",
       "<table border=\"1\" class=\"dataframe\">\n",
       "  <thead>\n",
       "    <tr style=\"text-align: right;\">\n",
       "      <th></th>\n",
       "      <th>missing_values</th>\n",
       "    </tr>\n",
       "  </thead>\n",
       "  <tbody>\n",
       "    <tr>\n",
       "      <th>User-ID</th>\n",
       "      <td>0</td>\n",
       "    </tr>\n",
       "    <tr>\n",
       "      <th>Location</th>\n",
       "      <td>0</td>\n",
       "    </tr>\n",
       "    <tr>\n",
       "      <th>Age</th>\n",
       "      <td>110762</td>\n",
       "    </tr>\n",
       "    <tr>\n",
       "      <th>city</th>\n",
       "      <td>0</td>\n",
       "    </tr>\n",
       "    <tr>\n",
       "      <th>country</th>\n",
       "      <td>2</td>\n",
       "    </tr>\n",
       "  </tbody>\n",
       "</table>\n",
       "</div>"
      ],
      "text/plain": [
       "          missing_values\n",
       "User-ID                0\n",
       "Location               0\n",
       "Age               110762\n",
       "city                   0\n",
       "country                2"
      ]
     },
     "execution_count": 22,
     "metadata": {},
     "output_type": "execute_result"
    }
   ],
   "source": [
    "pd.DataFrame(df_user.isnull().sum(), columns=['missing_values'])"
   ]
  },
  {
   "cell_type": "code",
   "execution_count": 23,
   "id": "623eb57d",
   "metadata": {
    "scrolled": true
   },
   "outputs": [
    {
     "name": "stdout",
     "output_type": "stream",
     "text": [
      "<class 'pandas.core.frame.DataFrame'>\n",
      "RangeIndex: 278858 entries, 0 to 278857\n",
      "Data columns (total 5 columns):\n",
      "User-ID     278858 non-null int64\n",
      "Location    278858 non-null object\n",
      "Age         168096 non-null float64\n",
      "city        278858 non-null object\n",
      "country     278856 non-null object\n",
      "dtypes: float64(1), int64(1), object(3)\n",
      "memory usage: 10.6+ MB\n"
     ]
    }
   ],
   "source": [
    "df_user.info()"
   ]
  },
  {
   "cell_type": "code",
   "execution_count": 24,
   "id": "9f36afaa",
   "metadata": {},
   "outputs": [],
   "source": [
    "pd.set_option('display.max_rows',105)"
   ]
  },
  {
   "cell_type": "code",
   "execution_count": 25,
   "id": "f526679a",
   "metadata": {
    "scrolled": false
   },
   "outputs": [
    {
     "data": {
      "text/html": [
       "<div>\n",
       "<style scoped>\n",
       "    .dataframe tbody tr th:only-of-type {\n",
       "        vertical-align: middle;\n",
       "    }\n",
       "\n",
       "    .dataframe tbody tr th {\n",
       "        vertical-align: top;\n",
       "    }\n",
       "\n",
       "    .dataframe thead th {\n",
       "        text-align: right;\n",
       "    }\n",
       "</style>\n",
       "<table border=\"1\" class=\"dataframe\">\n",
       "  <thead>\n",
       "    <tr style=\"text-align: right;\">\n",
       "      <th></th>\n",
       "      <th>country</th>\n",
       "    </tr>\n",
       "    <tr>\n",
       "      <th>country</th>\n",
       "      <th></th>\n",
       "    </tr>\n",
       "  </thead>\n",
       "  <tbody>\n",
       "    <tr>\n",
       "      <th></th>\n",
       "      <td>4598</td>\n",
       "    </tr>\n",
       "    <tr>\n",
       "      <th></th>\n",
       "      <td>14</td>\n",
       "    </tr>\n",
       "    <tr>\n",
       "      <th>australia</th>\n",
       "      <td>1</td>\n",
       "    </tr>\n",
       "    <tr>\n",
       "      <th>england</th>\n",
       "      <td>1</td>\n",
       "    </tr>\n",
       "    <tr>\n",
       "      <th>pasig city.</th>\n",
       "      <td>1</td>\n",
       "    </tr>\n",
       "    <tr>\n",
       "      <th>&amp;#20013;&amp;#22269;</th>\n",
       "      <td>1</td>\n",
       "    </tr>\n",
       "    <tr>\n",
       "      <th>&amp;#32654;&amp;#22269;</th>\n",
       "      <td>1</td>\n",
       "    </tr>\n",
       "    <tr>\n",
       "      <th>*</th>\n",
       "      <td>1</td>\n",
       "    </tr>\n",
       "    <tr>\n",
       "      <th>-</th>\n",
       "      <td>1</td>\n",
       "    </tr>\n",
       "    <tr>\n",
       "      <th>-------</th>\n",
       "      <td>1</td>\n",
       "    </tr>\n",
       "  </tbody>\n",
       "</table>\n",
       "</div>"
      ],
      "text/plain": [
       "                   country\n",
       "country                   \n",
       "                      4598\n",
       "                        14\n",
       "  australia              1\n",
       "  england                1\n",
       "  pasig city.            1\n",
       " &#20013;&#22269;        1\n",
       " &#32654;&#22269;        1\n",
       " *                       1\n",
       " -                       1\n",
       " -------                 1"
      ]
     },
     "execution_count": 25,
     "metadata": {},
     "output_type": "execute_result"
    }
   ],
   "source": [
    "df_user.groupby('country')[['country']].count().head(10)"
   ]
  },
  {
   "cell_type": "code",
   "execution_count": 26,
   "id": "1368c9cd",
   "metadata": {},
   "outputs": [],
   "source": [
    "df_user.drop(columns=['country'], inplace=True)"
   ]
  },
  {
   "cell_type": "code",
   "execution_count": 27,
   "id": "a36f2ef2",
   "metadata": {},
   "outputs": [
    {
     "data": {
      "text/html": [
       "<div>\n",
       "<style scoped>\n",
       "    .dataframe tbody tr th:only-of-type {\n",
       "        vertical-align: middle;\n",
       "    }\n",
       "\n",
       "    .dataframe tbody tr th {\n",
       "        vertical-align: top;\n",
       "    }\n",
       "\n",
       "    .dataframe thead th {\n",
       "        text-align: right;\n",
       "    }\n",
       "</style>\n",
       "<table border=\"1\" class=\"dataframe\">\n",
       "  <thead>\n",
       "    <tr style=\"text-align: right;\">\n",
       "      <th></th>\n",
       "      <th>Age</th>\n",
       "    </tr>\n",
       "  </thead>\n",
       "  <tbody>\n",
       "    <tr>\n",
       "      <th>count</th>\n",
       "      <td>168096.000000</td>\n",
       "    </tr>\n",
       "    <tr>\n",
       "      <th>mean</th>\n",
       "      <td>34.751434</td>\n",
       "    </tr>\n",
       "    <tr>\n",
       "      <th>std</th>\n",
       "      <td>14.428097</td>\n",
       "    </tr>\n",
       "    <tr>\n",
       "      <th>min</th>\n",
       "      <td>0.000000</td>\n",
       "    </tr>\n",
       "    <tr>\n",
       "      <th>25%</th>\n",
       "      <td>24.000000</td>\n",
       "    </tr>\n",
       "    <tr>\n",
       "      <th>50%</th>\n",
       "      <td>32.000000</td>\n",
       "    </tr>\n",
       "    <tr>\n",
       "      <th>75%</th>\n",
       "      <td>44.000000</td>\n",
       "    </tr>\n",
       "    <tr>\n",
       "      <th>max</th>\n",
       "      <td>244.000000</td>\n",
       "    </tr>\n",
       "  </tbody>\n",
       "</table>\n",
       "</div>"
      ],
      "text/plain": [
       "                 Age\n",
       "count  168096.000000\n",
       "mean       34.751434\n",
       "std        14.428097\n",
       "min         0.000000\n",
       "25%        24.000000\n",
       "50%        32.000000\n",
       "75%        44.000000\n",
       "max       244.000000"
      ]
     },
     "execution_count": 27,
     "metadata": {},
     "output_type": "execute_result"
    }
   ],
   "source": [
    "df_user[['Age']].describe()"
   ]
  },
  {
   "cell_type": "code",
   "execution_count": 28,
   "id": "c4f594d5",
   "metadata": {},
   "outputs": [
    {
     "data": {
      "text/html": [
       "<div>\n",
       "<style scoped>\n",
       "    .dataframe tbody tr th:only-of-type {\n",
       "        vertical-align: middle;\n",
       "    }\n",
       "\n",
       "    .dataframe tbody tr th {\n",
       "        vertical-align: top;\n",
       "    }\n",
       "\n",
       "    .dataframe thead th {\n",
       "        text-align: right;\n",
       "    }\n",
       "</style>\n",
       "<table border=\"1\" class=\"dataframe\">\n",
       "  <thead>\n",
       "    <tr style=\"text-align: right;\">\n",
       "      <th></th>\n",
       "      <th>Location</th>\n",
       "      <th>city</th>\n",
       "    </tr>\n",
       "  </thead>\n",
       "  <tbody>\n",
       "    <tr>\n",
       "      <th>count</th>\n",
       "      <td>278858</td>\n",
       "      <td>278858</td>\n",
       "    </tr>\n",
       "    <tr>\n",
       "      <th>unique</th>\n",
       "      <td>57339</td>\n",
       "      <td>32770</td>\n",
       "    </tr>\n",
       "    <tr>\n",
       "      <th>top</th>\n",
       "      <td>london, england, united kingdom</td>\n",
       "      <td>london</td>\n",
       "    </tr>\n",
       "    <tr>\n",
       "      <th>freq</th>\n",
       "      <td>2506</td>\n",
       "      <td>4105</td>\n",
       "    </tr>\n",
       "  </tbody>\n",
       "</table>\n",
       "</div>"
      ],
      "text/plain": [
       "                               Location    city\n",
       "count                            278858  278858\n",
       "unique                            57339   32770\n",
       "top     london, england, united kingdom  london\n",
       "freq                               2506    4105"
      ]
     },
     "execution_count": 28,
     "metadata": {},
     "output_type": "execute_result"
    }
   ],
   "source": [
    "df_user.describe(include=object)"
   ]
  },
  {
   "cell_type": "markdown",
   "id": "7a2ce479",
   "metadata": {},
   "source": [
    "`Kesimpulan dari Tahapan ini :`\n",
    "1. Book\n",
    "    - Buku dengan judul terbanyak adalah Selected Poems dengan jumlah 27 buah\n",
    "    - Penulis terbanyak adalah Agatha Christie dengan total 632 karya\n",
    "    - Buku terbitan tahun 2002 menjadi buku terbanyak\n",
    "    - Lembaga penerbit yang paling banayk menerbitkan buku adalah Harlequin\n",
    "2. Rating\n",
    "    - masih banyak buku yang belum dirating, yakni sebanyak 716109\n",
    "3. User\n",
    "    - Banyak data umur yang kosong kemungkinan tidak akan digunakan\n",
    "    - london menjadi kota user terbanyak sebanyak 139187 user"
   ]
  },
  {
   "cell_type": "markdown",
   "id": "e25d4b05",
   "metadata": {},
   "source": [
    "## 3.3 Visualisasi Data"
   ]
  },
  {
   "cell_type": "markdown",
   "id": "f090c79b",
   "metadata": {},
   "source": [
    "### 3.3.1 Book"
   ]
  },
  {
   "cell_type": "code",
   "execution_count": 29,
   "id": "05724683",
   "metadata": {},
   "outputs": [],
   "source": [
    "count_book = {key: len(df_book[key].unique()) for key in df_book.columns[1:5]}"
   ]
  },
  {
   "cell_type": "code",
   "execution_count": 30,
   "id": "07de9c2b",
   "metadata": {},
   "outputs": [
    {
     "data": {
      "image/png": "[encoded data removed]",
      "text/plain": [
       "<Figure size 1080x648 with 1 Axes>"
      ]
     },
     "metadata": {
      "needs_background": "light"
     },
     "output_type": "display_data"
    }
   ],
   "source": [
    "plt.figure(figsize=(15,9))\n",
    "ax = sns.barplot(x=list(count_book.keys()), y=list(count_book.values()))\n",
    "for p in ax.patches:\n",
    "        ax.annotate(format(p.get_height(), '.1f'), (p.get_x() + p.get_width() / 2., p.get_height()), ha = 'center', va = 'center', xytext = (0, 10), textcoords = 'offset points')\n",
    "ax.set_title(\"Banyak Data Unik Tiap Kolom Dataset Book\")\n",
    "plt.show()"
   ]
  },
  {
   "cell_type": "markdown",
   "id": "9d330cbe",
   "metadata": {},
   "source": [
    "### 3.3.2 Rating"
   ]
  },
  {
   "cell_type": "code",
   "execution_count": 31,
   "id": "8b63e66e",
   "metadata": {},
   "outputs": [],
   "source": [
    "count_rating = {key: len(df_rating[key].unique()) for key in df_rating.columns}"
   ]
  },
  {
   "cell_type": "code",
   "execution_count": 32,
   "id": "dec49fbf",
   "metadata": {},
   "outputs": [
    {
     "data": {
      "image/png": "[encoded data removed]",
      "text/plain": [
       "<Figure size 1080x648 with 1 Axes>"
      ]
     },
     "metadata": {
      "needs_background": "light"
     },
     "output_type": "display_data"
    }
   ],
   "source": [
    "plt.figure(figsize=(15,9))\n",
    "ax = sns.barplot(x=list(count_rating.keys()), y=list(count_rating.values()))\n",
    "for p in ax.patches:\n",
    "        ax.annotate(format(p.get_height(), '.1f'), (p.get_x() + p.get_width() / 2., p.get_height()), ha = 'center', va = 'center', xytext = (0, 10), textcoords = 'offset points')\n",
    "ax.set_title(\"Banyak Data Unik Tiap Kolom Dataset Rating\")\n",
    "plt.show()"
   ]
  },
  {
   "cell_type": "code",
   "execution_count": 33,
   "id": "2cf7c5a1",
   "metadata": {},
   "outputs": [
    {
     "data": {
      "image/png": "[encoded data removed]",
      "text/plain": [
       "<Figure size 1080x648 with 1 Axes>"
      ]
     },
     "metadata": {
      "needs_background": "light"
     },
     "output_type": "display_data"
    }
   ],
   "source": [
    "plt.figure(figsize=(15,9))\n",
    "ax = sns.countplot(data=df_rating, x='Book-Rating')\n",
    "for p in ax.patches:\n",
    "        ax.annotate(format(p.get_height(), '.1f'), (p.get_x() + p.get_width() / 2., p.get_height()), ha = 'center', va = 'center', xytext = (0, 10), textcoords = 'offset points')\n",
    "ax.set_title(\"Banyak Data Unik Kolom Rating\")\n",
    "plt.show()"
   ]
  },
  {
   "cell_type": "markdown",
   "id": "5c00762e",
   "metadata": {},
   "source": [
    "### 3.3.3 Users"
   ]
  },
  {
   "cell_type": "code",
   "execution_count": 34,
   "id": "da389b85",
   "metadata": {},
   "outputs": [
    {
     "data": {
      "text/html": [
       "<div>\n",
       "<style scoped>\n",
       "    .dataframe tbody tr th:only-of-type {\n",
       "        vertical-align: middle;\n",
       "    }\n",
       "\n",
       "    .dataframe tbody tr th {\n",
       "        vertical-align: top;\n",
       "    }\n",
       "\n",
       "    .dataframe thead th {\n",
       "        text-align: right;\n",
       "    }\n",
       "</style>\n",
       "<table border=\"1\" class=\"dataframe\">\n",
       "  <thead>\n",
       "    <tr style=\"text-align: right;\">\n",
       "      <th></th>\n",
       "      <th>User-ID</th>\n",
       "      <th>Location</th>\n",
       "      <th>Age</th>\n",
       "      <th>city</th>\n",
       "    </tr>\n",
       "  </thead>\n",
       "  <tbody>\n",
       "    <tr>\n",
       "      <th>0</th>\n",
       "      <td>1</td>\n",
       "      <td>nyc, new york, usa</td>\n",
       "      <td>NaN</td>\n",
       "      <td>nyc</td>\n",
       "    </tr>\n",
       "    <tr>\n",
       "      <th>1</th>\n",
       "      <td>2</td>\n",
       "      <td>stockton, california, usa</td>\n",
       "      <td>18.0</td>\n",
       "      <td>stockton</td>\n",
       "    </tr>\n",
       "    <tr>\n",
       "      <th>2</th>\n",
       "      <td>3</td>\n",
       "      <td>moscow, yukon territory, russia</td>\n",
       "      <td>NaN</td>\n",
       "      <td>moscow</td>\n",
       "    </tr>\n",
       "    <tr>\n",
       "      <th>3</th>\n",
       "      <td>4</td>\n",
       "      <td>porto, v.n.gaia, portugal</td>\n",
       "      <td>17.0</td>\n",
       "      <td>porto</td>\n",
       "    </tr>\n",
       "    <tr>\n",
       "      <th>4</th>\n",
       "      <td>5</td>\n",
       "      <td>farnborough, hants, united kingdom</td>\n",
       "      <td>NaN</td>\n",
       "      <td>farnborough</td>\n",
       "    </tr>\n",
       "  </tbody>\n",
       "</table>\n",
       "</div>"
      ],
      "text/plain": [
       "   User-ID                            Location   Age         city\n",
       "0        1                  nyc, new york, usa   NaN          nyc\n",
       "1        2           stockton, california, usa  18.0     stockton\n",
       "2        3     moscow, yukon territory, russia   NaN       moscow\n",
       "3        4           porto, v.n.gaia, portugal  17.0        porto\n",
       "4        5  farnborough, hants, united kingdom   NaN  farnborough"
      ]
     },
     "execution_count": 34,
     "metadata": {},
     "output_type": "execute_result"
    }
   ],
   "source": [
    "df_user.head()"
   ]
  },
  {
   "cell_type": "code",
   "execution_count": 35,
   "id": "3b6e79a1",
   "metadata": {},
   "outputs": [],
   "source": [
    "count_users = {key: len(df_user[key].unique()) for key in df_user.columns}"
   ]
  },
  {
   "cell_type": "code",
   "execution_count": 36,
   "id": "146bfcc4",
   "metadata": {},
   "outputs": [
    {
     "data": {
      "image/png": "[encoded data removed]",
      "text/plain": [
       "<Figure size 864x648 with 1 Axes>"
      ]
     },
     "metadata": {
      "needs_background": "light"
     },
     "output_type": "display_data"
    }
   ],
   "source": [
    "plt.figure(figsize=(12,9))\n",
    "ax = sns.barplot(x=list(count_users.keys()), y=list(count_users.values()))\n",
    "for p in ax.patches:\n",
    "        ax.annotate(format(p.get_height(), '.1f'), (p.get_x() + p.get_width() / 2., p.get_height()), ha = 'center', va = 'center', xytext = (0, 10), textcoords = 'offset points')\n",
    "ax.set_title(\"Banyak Data Unik Tiap Kolom Dataset User\")\n",
    "plt.show()"
   ]
  },
  {
   "cell_type": "code",
   "execution_count": 37,
   "id": "38b6d7ef",
   "metadata": {},
   "outputs": [
    {
     "data": {
      "text/html": [
       "<div>\n",
       "<style scoped>\n",
       "    .dataframe tbody tr th:only-of-type {\n",
       "        vertical-align: middle;\n",
       "    }\n",
       "\n",
       "    .dataframe tbody tr th {\n",
       "        vertical-align: top;\n",
       "    }\n",
       "\n",
       "    .dataframe thead th {\n",
       "        text-align: right;\n",
       "    }\n",
       "</style>\n",
       "<table border=\"1\" class=\"dataframe\">\n",
       "  <thead>\n",
       "    <tr style=\"text-align: right;\">\n",
       "      <th></th>\n",
       "      <th>city</th>\n",
       "      <th>count</th>\n",
       "    </tr>\n",
       "  </thead>\n",
       "  <tbody>\n",
       "    <tr>\n",
       "      <th>0</th>\n",
       "      <td>london</td>\n",
       "      <td>4105</td>\n",
       "    </tr>\n",
       "    <tr>\n",
       "      <th>1</th>\n",
       "      <td>barcelona</td>\n",
       "      <td>2664</td>\n",
       "    </tr>\n",
       "    <tr>\n",
       "      <th>2</th>\n",
       "      <td>toronto</td>\n",
       "      <td>2342</td>\n",
       "    </tr>\n",
       "    <tr>\n",
       "      <th>3</th>\n",
       "      <td>madrid</td>\n",
       "      <td>1933</td>\n",
       "    </tr>\n",
       "    <tr>\n",
       "      <th>4</th>\n",
       "      <td>sydney</td>\n",
       "      <td>1884</td>\n",
       "    </tr>\n",
       "    <tr>\n",
       "      <th>5</th>\n",
       "      <td>portland</td>\n",
       "      <td>1869</td>\n",
       "    </tr>\n",
       "    <tr>\n",
       "      <th>6</th>\n",
       "      <td>melbourne</td>\n",
       "      <td>1863</td>\n",
       "    </tr>\n",
       "    <tr>\n",
       "      <th>7</th>\n",
       "      <td>vancouver</td>\n",
       "      <td>1699</td>\n",
       "    </tr>\n",
       "    <tr>\n",
       "      <th>8</th>\n",
       "      <td>chicago</td>\n",
       "      <td>1566</td>\n",
       "    </tr>\n",
       "    <tr>\n",
       "      <th>9</th>\n",
       "      <td>seattle</td>\n",
       "      <td>1541</td>\n",
       "    </tr>\n",
       "  </tbody>\n",
       "</table>\n",
       "</div>"
      ],
      "text/plain": [
       "        city  count\n",
       "0     london   4105\n",
       "1  barcelona   2664\n",
       "2    toronto   2342\n",
       "3     madrid   1933\n",
       "4     sydney   1884\n",
       "5   portland   1869\n",
       "6  melbourne   1863\n",
       "7  vancouver   1699\n",
       "8    chicago   1566\n",
       "9    seattle   1541"
      ]
     },
     "execution_count": 37,
     "metadata": {},
     "output_type": "execute_result"
    }
   ],
   "source": [
    "city_top10 = df_user.city.value_counts().head(10).reset_index()\n",
    "city_top10.columns = ['city', 'count']\n",
    "city_top10"
   ]
  },
  {
   "cell_type": "code",
   "execution_count": 38,
   "id": "4ea6956d",
   "metadata": {},
   "outputs": [
    {
     "data": {
      "image/png": "[encoded data removed]",
      "text/plain": [
       "<Figure size 864x648 with 1 Axes>"
      ]
     },
     "metadata": {
      "needs_background": "light"
     },
     "output_type": "display_data"
    }
   ],
   "source": [
    "plt.figure(figsize=(12,9))\n",
    "ax = sns.barplot(x=city_top10.city, y=city_top10['count'])\n",
    "for p in ax.patches:\n",
    "        ax.annotate(format(p.get_height(), '.1f'), (p.get_x() + p.get_width() / 2., p.get_height()), ha = 'center', va = 'center', xytext = (0, 10), textcoords = 'offset points')\n",
    "ax.set_title(\"Top 10 Kota Terbanyak\")\n",
    "plt.show()"
   ]
  },
  {
   "cell_type": "markdown",
   "id": "53012f90",
   "metadata": {},
   "source": [
    "# 4. Data Preparation & Data Preprocessing"
   ]
  },
  {
   "cell_type": "markdown",
   "id": "2618eb02",
   "metadata": {},
   "source": [
    "## 4.1 Memilih fitur untuk sistem rekomendasi"
   ]
  },
  {
   "cell_type": "code",
   "execution_count": 39,
   "id": "f2c0d445",
   "metadata": {
    "scrolled": true
   },
   "outputs": [
    {
     "data": {
      "text/html": [
       "<div>\n",
       "<style scoped>\n",
       "    .dataframe tbody tr th:only-of-type {\n",
       "        vertical-align: middle;\n",
       "    }\n",
       "\n",
       "    .dataframe tbody tr th {\n",
       "        vertical-align: top;\n",
       "    }\n",
       "\n",
       "    .dataframe thead th {\n",
       "        text-align: right;\n",
       "    }\n",
       "</style>\n",
       "<table border=\"1\" class=\"dataframe\">\n",
       "  <thead>\n",
       "    <tr style=\"text-align: right;\">\n",
       "      <th></th>\n",
       "      <th>ISBN</th>\n",
       "      <th>Book-Title</th>\n",
       "      <th>Book-Author</th>\n",
       "      <th>Year-Of-Publication</th>\n",
       "    </tr>\n",
       "  </thead>\n",
       "  <tbody>\n",
       "    <tr>\n",
       "      <th>0</th>\n",
       "      <td>0195153448</td>\n",
       "      <td>Classical Mythology</td>\n",
       "      <td>Mark P. O. Morford</td>\n",
       "      <td>2002</td>\n",
       "    </tr>\n",
       "    <tr>\n",
       "      <th>1</th>\n",
       "      <td>0002005018</td>\n",
       "      <td>Clara Callan</td>\n",
       "      <td>Richard Bruce Wright</td>\n",
       "      <td>2001</td>\n",
       "    </tr>\n",
       "    <tr>\n",
       "      <th>2</th>\n",
       "      <td>0060973129</td>\n",
       "      <td>Decision in Normandy</td>\n",
       "      <td>Carlo D'Este</td>\n",
       "      <td>1991</td>\n",
       "    </tr>\n",
       "    <tr>\n",
       "      <th>3</th>\n",
       "      <td>0374157065</td>\n",
       "      <td>Flu: The Story of the Great Influenza Pandemic...</td>\n",
       "      <td>Gina Bari Kolata</td>\n",
       "      <td>1999</td>\n",
       "    </tr>\n",
       "    <tr>\n",
       "      <th>4</th>\n",
       "      <td>0393045218</td>\n",
       "      <td>The Mummies of Urumchi</td>\n",
       "      <td>E. J. W. Barber</td>\n",
       "      <td>1999</td>\n",
       "    </tr>\n",
       "  </tbody>\n",
       "</table>\n",
       "</div>"
      ],
      "text/plain": [
       "         ISBN                                         Book-Title  \\\n",
       "0  0195153448                                Classical Mythology   \n",
       "1  0002005018                                       Clara Callan   \n",
       "2  0060973129                               Decision in Normandy   \n",
       "3  0374157065  Flu: The Story of the Great Influenza Pandemic...   \n",
       "4  0393045218                             The Mummies of Urumchi   \n",
       "\n",
       "            Book-Author Year-Of-Publication  \n",
       "0    Mark P. O. Morford                2002  \n",
       "1  Richard Bruce Wright                2001  \n",
       "2          Carlo D'Este                1991  \n",
       "3      Gina Bari Kolata                1999  \n",
       "4       E. J. W. Barber                1999  "
      ]
     },
     "execution_count": 39,
     "metadata": {},
     "output_type": "execute_result"
    }
   ],
   "source": [
    "df_fix = df_book.iloc[:,0:4]\n",
    "df_fix.head()"
   ]
  },
  {
   "cell_type": "code",
   "execution_count": 40,
   "id": "439682dd",
   "metadata": {},
   "outputs": [
    {
     "data": {
      "text/html": [
       "<div>\n",
       "<style scoped>\n",
       "    .dataframe tbody tr th:only-of-type {\n",
       "        vertical-align: middle;\n",
       "    }\n",
       "\n",
       "    .dataframe tbody tr th {\n",
       "        vertical-align: top;\n",
       "    }\n",
       "\n",
       "    .dataframe thead th {\n",
       "        text-align: right;\n",
       "    }\n",
       "</style>\n",
       "<table border=\"1\" class=\"dataframe\">\n",
       "  <thead>\n",
       "    <tr style=\"text-align: right;\">\n",
       "      <th></th>\n",
       "      <th>missing_values</th>\n",
       "      <th>presentase</th>\n",
       "    </tr>\n",
       "  </thead>\n",
       "  <tbody>\n",
       "    <tr>\n",
       "      <th>ISBN</th>\n",
       "      <td>0</td>\n",
       "      <td>0.000000</td>\n",
       "    </tr>\n",
       "    <tr>\n",
       "      <th>Book-Title</th>\n",
       "      <td>0</td>\n",
       "      <td>0.000000</td>\n",
       "    </tr>\n",
       "    <tr>\n",
       "      <th>Book-Author</th>\n",
       "      <td>1</td>\n",
       "      <td>0.000004</td>\n",
       "    </tr>\n",
       "    <tr>\n",
       "      <th>Year-Of-Publication</th>\n",
       "      <td>0</td>\n",
       "      <td>0.000000</td>\n",
       "    </tr>\n",
       "  </tbody>\n",
       "</table>\n",
       "</div>"
      ],
      "text/plain": [
       "                     missing_values  presentase\n",
       "ISBN                              0    0.000000\n",
       "Book-Title                        0    0.000000\n",
       "Book-Author                       1    0.000004\n",
       "Year-Of-Publication               0    0.000000"
      ]
     },
     "execution_count": 40,
     "metadata": {},
     "output_type": "execute_result"
    }
   ],
   "source": [
    "pd.DataFrame({\n",
    "    'missing_values':df_fix.isnull().sum(),\n",
    "    'presentase':df_fix.isnull().sum()/len(df_fix)\n",
    "})"
   ]
  },
  {
   "cell_type": "markdown",
   "id": "6958a719",
   "metadata": {},
   "source": [
    "## 4.2 Hapus Missing Value dan data duplicate pada dataset fix"
   ]
  },
  {
   "cell_type": "code",
   "execution_count": 41,
   "id": "44c916ff",
   "metadata": {},
   "outputs": [
    {
     "name": "stderr",
     "output_type": "stream",
     "text": [
      "D:\\Pemrograman\\miniconda3\\envs\\my_env\\lib\\site-packages\\ipykernel_launcher.py:1: SettingWithCopyWarning: \n",
      "A value is trying to be set on a copy of a slice from a DataFrame\n",
      "\n",
      "See the caveats in the documentation: http://pandas.pydata.org/pandas-docs/stable/user_guide/indexing.html#returning-a-view-versus-a-copy\n",
      "  \"\"\"Entry point for launching an IPython kernel.\n",
      "D:\\Pemrograman\\miniconda3\\envs\\my_env\\lib\\site-packages\\ipykernel_launcher.py:2: SettingWithCopyWarning: \n",
      "A value is trying to be set on a copy of a slice from a DataFrame\n",
      "\n",
      "See the caveats in the documentation: http://pandas.pydata.org/pandas-docs/stable/user_guide/indexing.html#returning-a-view-versus-a-copy\n",
      "  \n"
     ]
    }
   ],
   "source": [
    "df_fix.dropna(inplace=True)\n",
    "df_fix.drop_duplicates(inplace=True)"
   ]
  },
  {
   "cell_type": "code",
   "execution_count": 42,
   "id": "a28a32fa",
   "metadata": {
    "scrolled": true
   },
   "outputs": [
    {
     "data": {
      "text/plain": [
       "(271359, 4)"
      ]
     },
     "execution_count": 42,
     "metadata": {},
     "output_type": "execute_result"
    }
   ],
   "source": [
    "df_fix.shape"
   ]
  },
  {
   "cell_type": "markdown",
   "id": "99f4e1f7",
   "metadata": {},
   "source": [
    "## 4.3 Create Metadata"
   ]
  },
  {
   "cell_type": "code",
   "execution_count": 43,
   "id": "fd803037",
   "metadata": {},
   "outputs": [
    {
     "name": "stderr",
     "output_type": "stream",
     "text": [
      "D:\\Pemrograman\\miniconda3\\envs\\my_env\\lib\\site-packages\\ipykernel_launcher.py:1: SettingWithCopyWarning: \n",
      "A value is trying to be set on a copy of a slice from a DataFrame.\n",
      "Try using .loc[row_indexer,col_indexer] = value instead\n",
      "\n",
      "See the caveats in the documentation: http://pandas.pydata.org/pandas-docs/stable/user_guide/indexing.html#returning-a-view-versus-a-copy\n",
      "  \"\"\"Entry point for launching an IPython kernel.\n"
     ]
    }
   ],
   "source": [
    "df_fix['Year-Of-Publication'] = df_fix['Year-Of-Publication'].astype('str')"
   ]
  },
  {
   "cell_type": "code",
   "execution_count": 44,
   "id": "0b35fc63",
   "metadata": {},
   "outputs": [
    {
     "name": "stderr",
     "output_type": "stream",
     "text": [
      "D:\\Pemrograman\\miniconda3\\envs\\my_env\\lib\\site-packages\\ipykernel_launcher.py:1: SettingWithCopyWarning: \n",
      "A value is trying to be set on a copy of a slice from a DataFrame.\n",
      "Try using .loc[row_indexer,col_indexer] = value instead\n",
      "\n",
      "See the caveats in the documentation: http://pandas.pydata.org/pandas-docs/stable/user_guide/indexing.html#returning-a-view-versus-a-copy\n",
      "  \"\"\"Entry point for launching an IPython kernel.\n",
      "D:\\Pemrograman\\miniconda3\\envs\\my_env\\lib\\site-packages\\ipykernel_launcher.py:3: SettingWithCopyWarning: \n",
      "A value is trying to be set on a copy of a slice from a DataFrame.\n",
      "Try using .loc[row_indexer,col_indexer] = value instead\n",
      "\n",
      "See the caveats in the documentation: http://pandas.pydata.org/pandas-docs/stable/user_guide/indexing.html#returning-a-view-versus-a-copy\n",
      "  This is separate from the ipykernel package so we can avoid doing imports until\n",
      "D:\\Pemrograman\\miniconda3\\envs\\my_env\\lib\\site-packages\\ipykernel_launcher.py:4: SettingWithCopyWarning: \n",
      "A value is trying to be set on a copy of a slice from a DataFrame.\n",
      "Try using .loc[row_indexer,col_indexer] = value instead\n",
      "\n",
      "See the caveats in the documentation: http://pandas.pydata.org/pandas-docs/stable/user_guide/indexing.html#returning-a-view-versus-a-copy\n",
      "  after removing the cwd from sys.path.\n"
     ]
    }
   ],
   "source": [
    "df_fix['metadata'] = \"\"\n",
    "for col in ['Book-Title', 'Book-Author', 'Year-Of-Publication']:\n",
    "    df_fix['metadata'] += df_fix[col]\n",
    "    df_fix['metadata'] += \" \""
   ]
  },
  {
   "cell_type": "code",
   "execution_count": 45,
   "id": "f80ae533",
   "metadata": {},
   "outputs": [
    {
     "data": {
      "text/html": [
       "<div>\n",
       "<style scoped>\n",
       "    .dataframe tbody tr th:only-of-type {\n",
       "        vertical-align: middle;\n",
       "    }\n",
       "\n",
       "    .dataframe tbody tr th {\n",
       "        vertical-align: top;\n",
       "    }\n",
       "\n",
       "    .dataframe thead th {\n",
       "        text-align: right;\n",
       "    }\n",
       "</style>\n",
       "<table border=\"1\" class=\"dataframe\">\n",
       "  <thead>\n",
       "    <tr style=\"text-align: right;\">\n",
       "      <th></th>\n",
       "      <th>ISBN</th>\n",
       "      <th>Book-Title</th>\n",
       "      <th>Book-Author</th>\n",
       "      <th>Year-Of-Publication</th>\n",
       "      <th>metadata</th>\n",
       "    </tr>\n",
       "  </thead>\n",
       "  <tbody>\n",
       "    <tr>\n",
       "      <th>271355</th>\n",
       "      <td>0440400988</td>\n",
       "      <td>There's a Bat in Bunk Five</td>\n",
       "      <td>Paula Danziger</td>\n",
       "      <td>1988</td>\n",
       "      <td>There's a Bat in Bunk Five Paula Danziger 1988</td>\n",
       "    </tr>\n",
       "    <tr>\n",
       "      <th>271356</th>\n",
       "      <td>0525447644</td>\n",
       "      <td>From One to One Hundred</td>\n",
       "      <td>Teri Sloat</td>\n",
       "      <td>1991</td>\n",
       "      <td>From One to One Hundred Teri Sloat 1991</td>\n",
       "    </tr>\n",
       "    <tr>\n",
       "      <th>271357</th>\n",
       "      <td>006008667X</td>\n",
       "      <td>Lily Dale : The True Story of the Town that Ta...</td>\n",
       "      <td>Christine Wicker</td>\n",
       "      <td>2004</td>\n",
       "      <td>Lily Dale : The True Story of the Town that Ta...</td>\n",
       "    </tr>\n",
       "    <tr>\n",
       "      <th>271358</th>\n",
       "      <td>0192126040</td>\n",
       "      <td>Republic (World's Classics)</td>\n",
       "      <td>Plato</td>\n",
       "      <td>1996</td>\n",
       "      <td>Republic (World's Classics) Plato 1996</td>\n",
       "    </tr>\n",
       "    <tr>\n",
       "      <th>271359</th>\n",
       "      <td>0767409752</td>\n",
       "      <td>A Guided Tour of Rene Descartes' Meditations o...</td>\n",
       "      <td>Christopher  Biffle</td>\n",
       "      <td>2000</td>\n",
       "      <td>A Guided Tour of Rene Descartes' Meditations o...</td>\n",
       "    </tr>\n",
       "  </tbody>\n",
       "</table>\n",
       "</div>"
      ],
      "text/plain": [
       "              ISBN                                         Book-Title  \\\n",
       "271355  0440400988                         There's a Bat in Bunk Five   \n",
       "271356  0525447644                            From One to One Hundred   \n",
       "271357  006008667X  Lily Dale : The True Story of the Town that Ta...   \n",
       "271358  0192126040                        Republic (World's Classics)   \n",
       "271359  0767409752  A Guided Tour of Rene Descartes' Meditations o...   \n",
       "\n",
       "                Book-Author Year-Of-Publication  \\\n",
       "271355       Paula Danziger                1988   \n",
       "271356           Teri Sloat                1991   \n",
       "271357     Christine Wicker                2004   \n",
       "271358                Plato                1996   \n",
       "271359  Christopher  Biffle                2000   \n",
       "\n",
       "                                                 metadata  \n",
       "271355    There's a Bat in Bunk Five Paula Danziger 1988   \n",
       "271356           From One to One Hundred Teri Sloat 1991   \n",
       "271357  Lily Dale : The True Story of the Town that Ta...  \n",
       "271358            Republic (World's Classics) Plato 1996   \n",
       "271359  A Guided Tour of Rene Descartes' Meditations o...  "
      ]
     },
     "execution_count": 45,
     "metadata": {},
     "output_type": "execute_result"
    }
   ],
   "source": [
    "df_fix.tail()"
   ]
  },
  {
   "cell_type": "markdown",
   "id": "7c6ea2ed",
   "metadata": {},
   "source": [
    "## 4.4 Encoding dengan TF-IDF"
   ]
  },
  {
   "cell_type": "code",
   "execution_count": 46,
   "id": "e71b0868",
   "metadata": {},
   "outputs": [],
   "source": [
    "from sklearn.feature_extraction.text import CountVectorizer, TfidfVectorizer"
   ]
  },
  {
   "cell_type": "code",
   "execution_count": 47,
   "id": "e941cf8c",
   "metadata": {},
   "outputs": [],
   "source": [
    "bow = CountVectorizer()\n",
    "bank = bow.fit_transform(df_fix.metadata)"
   ]
  },
  {
   "cell_type": "code",
   "execution_count": 48,
   "id": "08deeb75",
   "metadata": {},
   "outputs": [],
   "source": [
    "tfidf = TfidfVectorizer()\n",
    "bank2 = tfidf.fit_transform(df_fix.metadata)"
   ]
  },
  {
   "cell_type": "markdown",
   "id": "c79573c9",
   "metadata": {},
   "source": [
    "# 5. Modeling"
   ]
  },
  {
   "cell_type": "markdown",
   "id": "b0f4f491",
   "metadata": {},
   "source": [
    "## 5.1 Encoding metadata index"
   ]
  },
  {
   "cell_type": "code",
   "execution_count": 49,
   "id": "11fb05c5",
   "metadata": {},
   "outputs": [
    {
     "data": {
      "text/plain": [
       "'Classical Mythology Mark P. O. Morford 2002 '"
      ]
     },
     "execution_count": 49,
     "metadata": {},
     "output_type": "execute_result"
    }
   ],
   "source": [
    "index = 0\n",
    "content = df_fix.loc[index, 'metadata']\n",
    "content"
   ]
  },
  {
   "cell_type": "code",
   "execution_count": 50,
   "id": "f03ca263",
   "metadata": {},
   "outputs": [
    {
     "data": {
      "text/plain": [
       "<1x113852 sparse matrix of type '<class 'numpy.int64'>'\n",
       "\twith 5 stored elements in Compressed Sparse Row format>"
      ]
     },
     "execution_count": 50,
     "metadata": {},
     "output_type": "execute_result"
    }
   ],
   "source": [
    "code1 = bow.transform([content])\n",
    "code1"
   ]
  },
  {
   "cell_type": "code",
   "execution_count": 51,
   "id": "7a74cfbe",
   "metadata": {},
   "outputs": [],
   "source": [
    "code2 = tfidf.transform([content])"
   ]
  },
  {
   "cell_type": "markdown",
   "id": "5afb1d28",
   "metadata": {},
   "source": [
    "## 5.2 Document Search"
   ]
  },
  {
   "cell_type": "code",
   "execution_count": 52,
   "id": "fb080536",
   "metadata": {},
   "outputs": [],
   "source": [
    "from sklearn.metrics.pairwise import cosine_distances"
   ]
  },
  {
   "cell_type": "code",
   "execution_count": 53,
   "id": "5b0fa9d7",
   "metadata": {},
   "outputs": [
    {
     "data": {
      "text/plain": [
       "array([[1.11022302e-16, 1.00000000e+00, 1.00000000e+00, ...,\n",
       "        1.00000000e+00, 1.00000000e+00, 1.00000000e+00]])"
      ]
     },
     "execution_count": 53,
     "metadata": {},
     "output_type": "execute_result"
    }
   ],
   "source": [
    "distance1 = cosine_distances(code1, bank)\n",
    "distance1"
   ]
  },
  {
   "cell_type": "code",
   "execution_count": 54,
   "id": "2bd59486",
   "metadata": {},
   "outputs": [
    {
     "data": {
      "text/plain": [
       "array([111977, 193922,  95231, ...,  94090,  94077, 271358], dtype=int64)"
      ]
     },
     "execution_count": 54,
     "metadata": {},
     "output_type": "execute_result"
    }
   ],
   "source": [
    "rec_idx = distance1.argsort()[0, 1:]\n",
    "rec_idx"
   ]
  },
  {
   "cell_type": "code",
   "execution_count": 55,
   "id": "28125e2d",
   "metadata": {
    "scrolled": true
   },
   "outputs": [
    {
     "data": {
      "text/html": [
       "<div>\n",
       "<style scoped>\n",
       "    .dataframe tbody tr th:only-of-type {\n",
       "        vertical-align: middle;\n",
       "    }\n",
       "\n",
       "    .dataframe tbody tr th {\n",
       "        vertical-align: top;\n",
       "    }\n",
       "\n",
       "    .dataframe thead th {\n",
       "        text-align: right;\n",
       "    }\n",
       "</style>\n",
       "<table border=\"1\" class=\"dataframe\">\n",
       "  <thead>\n",
       "    <tr style=\"text-align: right;\">\n",
       "      <th></th>\n",
       "      <th>ISBN</th>\n",
       "      <th>Book-Title</th>\n",
       "      <th>Book-Author</th>\n",
       "      <th>Year-Of-Publication</th>\n",
       "      <th>metadata</th>\n",
       "    </tr>\n",
       "  </thead>\n",
       "  <tbody>\n",
       "    <tr>\n",
       "      <th>111977</th>\n",
       "      <td>0582280044</td>\n",
       "      <td>Classical mythology</td>\n",
       "      <td>Mark P.O Morford</td>\n",
       "      <td>1985</td>\n",
       "      <td>Classical mythology Mark P.O Morford 1985</td>\n",
       "    </tr>\n",
       "    <tr>\n",
       "      <th>193922</th>\n",
       "      <td>0943518334</td>\n",
       "      <td>C data base development</td>\n",
       "      <td>Al Stevens</td>\n",
       "      <td>1987</td>\n",
       "      <td>C data base development Al Stevens 1987</td>\n",
       "    </tr>\n",
       "    <tr>\n",
       "      <th>95231</th>\n",
       "      <td>0801319536</td>\n",
       "      <td>Classical Mythology</td>\n",
       "      <td>Mark P. O. Morford</td>\n",
       "      <td>1998</td>\n",
       "      <td>Classical Mythology Mark P. O. Morford 1998</td>\n",
       "    </tr>\n",
       "    <tr>\n",
       "      <th>28887</th>\n",
       "      <td>0310702941</td>\n",
       "      <td>Olympics 2002</td>\n",
       "      <td>Mark Littleton</td>\n",
       "      <td>2002</td>\n",
       "      <td>Olympics 2002 Mark Littleton 2002</td>\n",
       "    </tr>\n",
       "    <tr>\n",
       "      <th>28889</th>\n",
       "      <td>031070295X</td>\n",
       "      <td>Football</td>\n",
       "      <td>Mark Littleton</td>\n",
       "      <td>2002</td>\n",
       "      <td>Football Mark Littleton 2002</td>\n",
       "    </tr>\n",
       "  </tbody>\n",
       "</table>\n",
       "</div>"
      ],
      "text/plain": [
       "              ISBN               Book-Title         Book-Author  \\\n",
       "111977  0582280044      Classical mythology    Mark P.O Morford   \n",
       "193922  0943518334  C data base development          Al Stevens   \n",
       "95231   0801319536      Classical Mythology  Mark P. O. Morford   \n",
       "28887   0310702941            Olympics 2002      Mark Littleton   \n",
       "28889   031070295X                 Football      Mark Littleton   \n",
       "\n",
       "       Year-Of-Publication                                      metadata  \n",
       "111977                1985    Classical mythology Mark P.O Morford 1985   \n",
       "193922                1987      C data base development Al Stevens 1987   \n",
       "95231                 1998  Classical Mythology Mark P. O. Morford 1998   \n",
       "28887                 2002            Olympics 2002 Mark Littleton 2002   \n",
       "28889                 2002                 Football Mark Littleton 2002   "
      ]
     },
     "execution_count": 55,
     "metadata": {},
     "output_type": "execute_result"
    }
   ],
   "source": [
    "df_fix.loc[rec_idx[:5], :]"
   ]
  },
  {
   "cell_type": "code",
   "execution_count": 56,
   "id": "2846dcca",
   "metadata": {},
   "outputs": [
    {
     "data": {
      "text/plain": [
       "array([[0.05608014, 1.        , 1.        , ..., 1.        , 1.        ,\n",
       "        1.        ]])"
      ]
     },
     "execution_count": 56,
     "metadata": {},
     "output_type": "execute_result"
    }
   ],
   "source": [
    "distance2 = cosine_distances(code2, bank)\n",
    "distance2"
   ]
  },
  {
   "cell_type": "code",
   "execution_count": 57,
   "id": "7bc7d276",
   "metadata": {},
   "outputs": [
    {
     "data": {
      "text/plain": [
       "array([ 95231, 111977, 193922, ...,  94090,  94077, 271358], dtype=int64)"
      ]
     },
     "execution_count": 57,
     "metadata": {},
     "output_type": "execute_result"
    }
   ],
   "source": [
    "rec_idx2 = distance2.argsort()[0, 1:]\n",
    "rec_idx2"
   ]
  },
  {
   "cell_type": "code",
   "execution_count": 58,
   "id": "48034e72",
   "metadata": {},
   "outputs": [
    {
     "data": {
      "text/html": [
       "<div>\n",
       "<style scoped>\n",
       "    .dataframe tbody tr th:only-of-type {\n",
       "        vertical-align: middle;\n",
       "    }\n",
       "\n",
       "    .dataframe tbody tr th {\n",
       "        vertical-align: top;\n",
       "    }\n",
       "\n",
       "    .dataframe thead th {\n",
       "        text-align: right;\n",
       "    }\n",
       "</style>\n",
       "<table border=\"1\" class=\"dataframe\">\n",
       "  <thead>\n",
       "    <tr style=\"text-align: right;\">\n",
       "      <th></th>\n",
       "      <th>ISBN</th>\n",
       "      <th>Book-Title</th>\n",
       "      <th>Book-Author</th>\n",
       "      <th>Year-Of-Publication</th>\n",
       "      <th>metadata</th>\n",
       "    </tr>\n",
       "  </thead>\n",
       "  <tbody>\n",
       "    <tr>\n",
       "      <th>95231</th>\n",
       "      <td>0801319536</td>\n",
       "      <td>Classical Mythology</td>\n",
       "      <td>Mark P. O. Morford</td>\n",
       "      <td>1998</td>\n",
       "      <td>Classical Mythology Mark P. O. Morford 1998</td>\n",
       "    </tr>\n",
       "    <tr>\n",
       "      <th>111977</th>\n",
       "      <td>0582280044</td>\n",
       "      <td>Classical mythology</td>\n",
       "      <td>Mark P.O Morford</td>\n",
       "      <td>1985</td>\n",
       "      <td>Classical mythology Mark P.O Morford 1985</td>\n",
       "    </tr>\n",
       "    <tr>\n",
       "      <th>193922</th>\n",
       "      <td>0943518334</td>\n",
       "      <td>C data base development</td>\n",
       "      <td>Al Stevens</td>\n",
       "      <td>1987</td>\n",
       "      <td>C data base development Al Stevens 1987</td>\n",
       "    </tr>\n",
       "    <tr>\n",
       "      <th>43410</th>\n",
       "      <td>0844255610</td>\n",
       "      <td>Mythology and You : Classical Mythology and it...</td>\n",
       "      <td>Donna Rosenberg</td>\n",
       "      <td>2001</td>\n",
       "      <td>Mythology and You : Classical Mythology and it...</td>\n",
       "    </tr>\n",
       "    <tr>\n",
       "      <th>189226</th>\n",
       "      <td>0340571195</td>\n",
       "      <td>The Sins of the Father</td>\n",
       "      <td>Allan Massie</td>\n",
       "      <td>1992</td>\n",
       "      <td>The Sins of the Father Allan Massie 1992</td>\n",
       "    </tr>\n",
       "    <tr>\n",
       "      <th>53103</th>\n",
       "      <td>0440208483</td>\n",
       "      <td>Dictionary of Mythology: Mainly Classical</td>\n",
       "      <td>Bergen Evans</td>\n",
       "      <td>1994</td>\n",
       "      <td>Dictionary of Mythology: Mainly Classical Berg...</td>\n",
       "    </tr>\n",
       "    <tr>\n",
       "      <th>271139</th>\n",
       "      <td>0525471812</td>\n",
       "      <td>Film: A Montage of Theories</td>\n",
       "      <td>Richard Dyer, Ed. MacCann</td>\n",
       "      <td>1966</td>\n",
       "      <td>Film: A Montage of Theories Richard Dyer, Ed. ...</td>\n",
       "    </tr>\n",
       "    <tr>\n",
       "      <th>86669</th>\n",
       "      <td>0140512357</td>\n",
       "      <td>The Penguin Dictionary of Classical Mythology ...</td>\n",
       "      <td>Pierre Grimal</td>\n",
       "      <td>1992</td>\n",
       "      <td>The Penguin Dictionary of Classical Mythology ...</td>\n",
       "    </tr>\n",
       "    <tr>\n",
       "      <th>152608</th>\n",
       "      <td>0460861360</td>\n",
       "      <td>Who's Who in Non-Classical Mythology</td>\n",
       "      <td>Egerston Sykes</td>\n",
       "      <td>1995</td>\n",
       "      <td>Who's Who in Non-Classical Mythology Egerston ...</td>\n",
       "    </tr>\n",
       "    <tr>\n",
       "      <th>51438</th>\n",
       "      <td>9626341157</td>\n",
       "      <td>Dracula (Classical Literature with Classical M...</td>\n",
       "      <td>Brian Cox</td>\n",
       "      <td>1997</td>\n",
       "      <td>Dracula (Classical Literature with Classical M...</td>\n",
       "    </tr>\n",
       "  </tbody>\n",
       "</table>\n",
       "</div>"
      ],
      "text/plain": [
       "              ISBN                                         Book-Title  \\\n",
       "95231   0801319536                                Classical Mythology   \n",
       "111977  0582280044                                Classical mythology   \n",
       "193922  0943518334                            C data base development   \n",
       "43410   0844255610  Mythology and You : Classical Mythology and it...   \n",
       "189226  0340571195                             The Sins of the Father   \n",
       "53103   0440208483          Dictionary of Mythology: Mainly Classical   \n",
       "271139  0525471812                        Film: A Montage of Theories   \n",
       "86669   0140512357  The Penguin Dictionary of Classical Mythology ...   \n",
       "152608  0460861360               Who's Who in Non-Classical Mythology   \n",
       "51438   9626341157  Dracula (Classical Literature with Classical M...   \n",
       "\n",
       "                      Book-Author Year-Of-Publication  \\\n",
       "95231          Mark P. O. Morford                1998   \n",
       "111977           Mark P.O Morford                1985   \n",
       "193922                 Al Stevens                1987   \n",
       "43410             Donna Rosenberg                2001   \n",
       "189226               Allan Massie                1992   \n",
       "53103                Bergen Evans                1994   \n",
       "271139  Richard Dyer, Ed. MacCann                1966   \n",
       "86669               Pierre Grimal                1992   \n",
       "152608             Egerston Sykes                1995   \n",
       "51438                   Brian Cox                1997   \n",
       "\n",
       "                                                 metadata  \n",
       "95231        Classical Mythology Mark P. O. Morford 1998   \n",
       "111977         Classical mythology Mark P.O Morford 1985   \n",
       "193922           C data base development Al Stevens 1987   \n",
       "43410   Mythology and You : Classical Mythology and it...  \n",
       "189226          The Sins of the Father Allan Massie 1992   \n",
       "53103   Dictionary of Mythology: Mainly Classical Berg...  \n",
       "271139  Film: A Montage of Theories Richard Dyer, Ed. ...  \n",
       "86669   The Penguin Dictionary of Classical Mythology ...  \n",
       "152608  Who's Who in Non-Classical Mythology Egerston ...  \n",
       "51438   Dracula (Classical Literature with Classical M...  "
      ]
     },
     "execution_count": 58,
     "metadata": {},
     "output_type": "execute_result"
    }
   ],
   "source": [
    "df_fix.loc[rec_idx2[:10], :]"
   ]
  },
  {
   "cell_type": "markdown",
   "id": "d83e67c6",
   "metadata": {},
   "source": [
    "## 5.3 Bungkus code agar rapih"
   ]
  },
  {
   "cell_type": "code",
   "execution_count": 59,
   "id": "04640fd0",
   "metadata": {},
   "outputs": [],
   "source": [
    "class RecommendationSystems():\n",
    "    def __init__(self,data, metadata_col):\n",
    "        self.df = data\n",
    "        self.metadata = metadata_col\n",
    "        self.encoder = None\n",
    "        self.bank = None\n",
    "    \n",
    "    def fit(self, encoder='tfidf'):\n",
    "        if encoder not in ['bow', 'tfidf']:\n",
    "            print(\"hanya support BoW dan TF-IDF\")\n",
    "        else:\n",
    "            self.encoder = TfidfVectorizer()\n",
    "            if encoder=='bow':\n",
    "                self.encoder = CountVectorizer()\n",
    "            self.bank = self.encoder.fit_transform(self.df[self.metadata])\n",
    "    def recommender(self, index, topn=10):\n",
    "        content = self.df.loc[index, self.metadata]\n",
    "        code = self.encoder.transform([content])\n",
    "        distance = cosine_distances(code, self.bank)\n",
    "        rec_idx = distance.argsort()[0, 1:]\n",
    "        return self.df.loc[rec_idx[:topn], :]"
   ]
  },
  {
   "cell_type": "code",
   "execution_count": 60,
   "id": "a9158f2f",
   "metadata": {},
   "outputs": [],
   "source": [
    "recsys = RecommendationSystems(df_fix, 'metadata')\n",
    "recsys.fit()"
   ]
  },
  {
   "cell_type": "code",
   "execution_count": 61,
   "id": "65695ba8",
   "metadata": {},
   "outputs": [
    {
     "data": {
      "text/html": [
       "<div>\n",
       "<style scoped>\n",
       "    .dataframe tbody tr th:only-of-type {\n",
       "        vertical-align: middle;\n",
       "    }\n",
       "\n",
       "    .dataframe tbody tr th {\n",
       "        vertical-align: top;\n",
       "    }\n",
       "\n",
       "    .dataframe thead th {\n",
       "        text-align: right;\n",
       "    }\n",
       "</style>\n",
       "<table border=\"1\" class=\"dataframe\">\n",
       "  <thead>\n",
       "    <tr style=\"text-align: right;\">\n",
       "      <th></th>\n",
       "      <th>ISBN</th>\n",
       "      <th>Book-Title</th>\n",
       "      <th>Book-Author</th>\n",
       "      <th>Year-Of-Publication</th>\n",
       "      <th>metadata</th>\n",
       "    </tr>\n",
       "  </thead>\n",
       "  <tbody>\n",
       "    <tr>\n",
       "      <th>214915</th>\n",
       "      <td>0448060167</td>\n",
       "      <td>King Arthur and His Knights of the Round Table...</td>\n",
       "      <td>Thomas Mallory</td>\n",
       "      <td>1976</td>\n",
       "      <td>King Arthur and His Knights of the Round Table...</td>\n",
       "    </tr>\n",
       "    <tr>\n",
       "      <th>123687</th>\n",
       "      <td>0385425325</td>\n",
       "      <td>Prize Stories 1993: The O. Henry Awards (Prize...</td>\n",
       "      <td>William Abrahams</td>\n",
       "      <td>1993</td>\n",
       "      <td>Prize Stories 1993: The O. Henry Awards (Prize...</td>\n",
       "    </tr>\n",
       "    <tr>\n",
       "      <th>123688</th>\n",
       "      <td>0385421923</td>\n",
       "      <td>Prize Stories 1992 : The O. Henry Awards (Priz...</td>\n",
       "      <td>WILLIAM ABRAHAMS</td>\n",
       "      <td>1992</td>\n",
       "      <td>Prize Stories 1992 : The O. Henry Awards (Priz...</td>\n",
       "    </tr>\n",
       "    <tr>\n",
       "      <th>245493</th>\n",
       "      <td>0140060081</td>\n",
       "      <td>Voss (King Penguin S.)</td>\n",
       "      <td>Patrick White</td>\n",
       "      <td>1981</td>\n",
       "      <td>Voss (King Penguin S.) Patrick White 1981</td>\n",
       "    </tr>\n",
       "    <tr>\n",
       "      <th>50707</th>\n",
       "      <td>0385264992</td>\n",
       "      <td>Prize Stories 1990: The O. Henry Awards (Prize...</td>\n",
       "      <td>William Abrahams</td>\n",
       "      <td>1990</td>\n",
       "      <td>Prize Stories 1990: The O. Henry Awards (Prize...</td>\n",
       "    </tr>\n",
       "    <tr>\n",
       "      <th>209825</th>\n",
       "      <td>0449130193</td>\n",
       "      <td>Deadly Admirer</td>\n",
       "      <td>Robert Arthur Smith</td>\n",
       "      <td>1987</td>\n",
       "      <td>Deadly Admirer Robert Arthur Smith 1987</td>\n",
       "    </tr>\n",
       "    <tr>\n",
       "      <th>241796</th>\n",
       "      <td>0385124007</td>\n",
       "      <td>The Way of a Pilgrim and the Pilgrim Continues...</td>\n",
       "      <td>Helen Bacovcin</td>\n",
       "      <td>1978</td>\n",
       "      <td>The Way of a Pilgrim and the Pilgrim Continues...</td>\n",
       "    </tr>\n",
       "    <tr>\n",
       "      <th>56459</th>\n",
       "      <td>038524634X</td>\n",
       "      <td>Prize Stories 1989: The O. Henry Awards</td>\n",
       "      <td>William Abrahams</td>\n",
       "      <td>1989</td>\n",
       "      <td>Prize Stories 1989: The O. Henry Awards Willia...</td>\n",
       "    </tr>\n",
       "    <tr>\n",
       "      <th>209571</th>\n",
       "      <td>0310390214</td>\n",
       "      <td>How to Read the Bible as Literature</td>\n",
       "      <td>Leland Ryken</td>\n",
       "      <td>1985</td>\n",
       "      <td>How to Read the Bible as Literature Leland Ryk...</td>\n",
       "    </tr>\n",
       "    <tr>\n",
       "      <th>115627</th>\n",
       "      <td>0385231555</td>\n",
       "      <td>Prize Stories 1986: The O. Henry Awards</td>\n",
       "      <td>William Abrahams</td>\n",
       "      <td>1986</td>\n",
       "      <td>Prize Stories 1986: The O. Henry Awards Willia...</td>\n",
       "    </tr>\n",
       "  </tbody>\n",
       "</table>\n",
       "</div>"
      ],
      "text/plain": [
       "              ISBN                                         Book-Title  \\\n",
       "214915  0448060167  King Arthur and His Knights of the Round Table...   \n",
       "123687  0385425325  Prize Stories 1993: The O. Henry Awards (Prize...   \n",
       "123688  0385421923  Prize Stories 1992 : The O. Henry Awards (Priz...   \n",
       "245493  0140060081                             Voss (King Penguin S.)   \n",
       "50707   0385264992  Prize Stories 1990: The O. Henry Awards (Prize...   \n",
       "209825  0449130193                                     Deadly Admirer   \n",
       "241796  0385124007  The Way of a Pilgrim and the Pilgrim Continues...   \n",
       "56459   038524634X            Prize Stories 1989: The O. Henry Awards   \n",
       "209571  0310390214                How to Read the Bible as Literature   \n",
       "115627  0385231555            Prize Stories 1986: The O. Henry Awards   \n",
       "\n",
       "                Book-Author Year-Of-Publication  \\\n",
       "214915       Thomas Mallory                1976   \n",
       "123687     William Abrahams                1993   \n",
       "123688     WILLIAM ABRAHAMS                1992   \n",
       "245493        Patrick White                1981   \n",
       "50707      William Abrahams                1990   \n",
       "209825  Robert Arthur Smith                1987   \n",
       "241796       Helen Bacovcin                1978   \n",
       "56459      William Abrahams                1989   \n",
       "209571         Leland Ryken                1985   \n",
       "115627     William Abrahams                1986   \n",
       "\n",
       "                                                 metadata  \n",
       "214915  King Arthur and His Knights of the Round Table...  \n",
       "123687  Prize Stories 1993: The O. Henry Awards (Prize...  \n",
       "123688  Prize Stories 1992 : The O. Henry Awards (Priz...  \n",
       "245493         Voss (King Penguin S.) Patrick White 1981   \n",
       "50707   Prize Stories 1990: The O. Henry Awards (Prize...  \n",
       "209825           Deadly Admirer Robert Arthur Smith 1987   \n",
       "241796  The Way of a Pilgrim and the Pilgrim Continues...  \n",
       "56459   Prize Stories 1989: The O. Henry Awards Willia...  \n",
       "209571  How to Read the Bible as Literature Leland Ryk...  \n",
       "115627  Prize Stories 1986: The O. Henry Awards Willia...  "
      ]
     },
     "execution_count": 61,
     "metadata": {},
     "output_type": "execute_result"
    }
   ],
   "source": [
    "rec = recsys.recommender(100)\n",
    "rec"
   ]
  },
  {
   "cell_type": "code",
   "execution_count": 62,
   "id": "0acacbf9",
   "metadata": {},
   "outputs": [
    {
     "data": {
      "text/plain": [
       "ISBN                                                          0385235941\n",
       "Book-Title                       Prize Stories, 1987: The O'Henry Awards\n",
       "Book-Author                                             William Abrahams\n",
       "Year-Of-Publication                                                 1987\n",
       "metadata               Prize Stories, 1987: The O'Henry Awards Willia...\n",
       "Name: 100, dtype: object"
      ]
     },
     "execution_count": 62,
     "metadata": {},
     "output_type": "execute_result"
    }
   ],
   "source": [
    "df_fix.loc[100,:]"
   ]
  },
  {
   "cell_type": "code",
   "execution_count": 63,
   "id": "cc79ec42",
   "metadata": {},
   "outputs": [],
   "source": [
    "recsys2 = RecommendationSystems(df_fix, 'metadata')\n",
    "recsys2.fit('bow')"
   ]
  },
  {
   "cell_type": "code",
   "execution_count": 64,
   "id": "192d8a5c",
   "metadata": {},
   "outputs": [
    {
     "data": {
      "text/html": [
       "<div>\n",
       "<style scoped>\n",
       "    .dataframe tbody tr th:only-of-type {\n",
       "        vertical-align: middle;\n",
       "    }\n",
       "\n",
       "    .dataframe tbody tr th {\n",
       "        vertical-align: top;\n",
       "    }\n",
       "\n",
       "    .dataframe thead th {\n",
       "        text-align: right;\n",
       "    }\n",
       "</style>\n",
       "<table border=\"1\" class=\"dataframe\">\n",
       "  <thead>\n",
       "    <tr style=\"text-align: right;\">\n",
       "      <th></th>\n",
       "      <th>ISBN</th>\n",
       "      <th>Book-Title</th>\n",
       "      <th>Book-Author</th>\n",
       "      <th>Year-Of-Publication</th>\n",
       "      <th>metadata</th>\n",
       "    </tr>\n",
       "  </thead>\n",
       "  <tbody>\n",
       "    <tr>\n",
       "      <th>123687</th>\n",
       "      <td>0385425325</td>\n",
       "      <td>Prize Stories 1993: The O. Henry Awards (Prize...</td>\n",
       "      <td>William Abrahams</td>\n",
       "      <td>1993</td>\n",
       "      <td>Prize Stories 1993: The O. Henry Awards (Prize...</td>\n",
       "    </tr>\n",
       "    <tr>\n",
       "      <th>214915</th>\n",
       "      <td>0448060167</td>\n",
       "      <td>King Arthur and His Knights of the Round Table...</td>\n",
       "      <td>Thomas Mallory</td>\n",
       "      <td>1976</td>\n",
       "      <td>King Arthur and His Knights of the Round Table...</td>\n",
       "    </tr>\n",
       "    <tr>\n",
       "      <th>245493</th>\n",
       "      <td>0140060081</td>\n",
       "      <td>Voss (King Penguin S.)</td>\n",
       "      <td>Patrick White</td>\n",
       "      <td>1981</td>\n",
       "      <td>Voss (King Penguin S.) Patrick White 1981</td>\n",
       "    </tr>\n",
       "    <tr>\n",
       "      <th>50707</th>\n",
       "      <td>0385264992</td>\n",
       "      <td>Prize Stories 1990: The O. Henry Awards (Prize...</td>\n",
       "      <td>William Abrahams</td>\n",
       "      <td>1990</td>\n",
       "      <td>Prize Stories 1990: The O. Henry Awards (Prize...</td>\n",
       "    </tr>\n",
       "    <tr>\n",
       "      <th>123688</th>\n",
       "      <td>0385421923</td>\n",
       "      <td>Prize Stories 1992 : The O. Henry Awards (Priz...</td>\n",
       "      <td>WILLIAM ABRAHAMS</td>\n",
       "      <td>1992</td>\n",
       "      <td>Prize Stories 1992 : The O. Henry Awards (Priz...</td>\n",
       "    </tr>\n",
       "    <tr>\n",
       "      <th>209571</th>\n",
       "      <td>0310390214</td>\n",
       "      <td>How to Read the Bible as Literature</td>\n",
       "      <td>Leland Ryken</td>\n",
       "      <td>1985</td>\n",
       "      <td>How to Read the Bible as Literature Leland Ryk...</td>\n",
       "    </tr>\n",
       "    <tr>\n",
       "      <th>241796</th>\n",
       "      <td>0385124007</td>\n",
       "      <td>The Way of a Pilgrim and the Pilgrim Continues...</td>\n",
       "      <td>Helen Bacovcin</td>\n",
       "      <td>1978</td>\n",
       "      <td>The Way of a Pilgrim and the Pilgrim Continues...</td>\n",
       "    </tr>\n",
       "    <tr>\n",
       "      <th>115627</th>\n",
       "      <td>0385231555</td>\n",
       "      <td>Prize Stories 1986: The O. Henry Awards</td>\n",
       "      <td>William Abrahams</td>\n",
       "      <td>1986</td>\n",
       "      <td>Prize Stories 1986: The O. Henry Awards Willia...</td>\n",
       "    </tr>\n",
       "    <tr>\n",
       "      <th>56459</th>\n",
       "      <td>038524634X</td>\n",
       "      <td>Prize Stories 1989: The O. Henry Awards</td>\n",
       "      <td>William Abrahams</td>\n",
       "      <td>1989</td>\n",
       "      <td>Prize Stories 1989: The O. Henry Awards Willia...</td>\n",
       "    </tr>\n",
       "    <tr>\n",
       "      <th>209825</th>\n",
       "      <td>0449130193</td>\n",
       "      <td>Deadly Admirer</td>\n",
       "      <td>Robert Arthur Smith</td>\n",
       "      <td>1987</td>\n",
       "      <td>Deadly Admirer Robert Arthur Smith 1987</td>\n",
       "    </tr>\n",
       "  </tbody>\n",
       "</table>\n",
       "</div>"
      ],
      "text/plain": [
       "              ISBN                                         Book-Title  \\\n",
       "123687  0385425325  Prize Stories 1993: The O. Henry Awards (Prize...   \n",
       "214915  0448060167  King Arthur and His Knights of the Round Table...   \n",
       "245493  0140060081                             Voss (King Penguin S.)   \n",
       "50707   0385264992  Prize Stories 1990: The O. Henry Awards (Prize...   \n",
       "123688  0385421923  Prize Stories 1992 : The O. Henry Awards (Priz...   \n",
       "209571  0310390214                How to Read the Bible as Literature   \n",
       "241796  0385124007  The Way of a Pilgrim and the Pilgrim Continues...   \n",
       "115627  0385231555            Prize Stories 1986: The O. Henry Awards   \n",
       "56459   038524634X            Prize Stories 1989: The O. Henry Awards   \n",
       "209825  0449130193                                     Deadly Admirer   \n",
       "\n",
       "                Book-Author Year-Of-Publication  \\\n",
       "123687     William Abrahams                1993   \n",
       "214915       Thomas Mallory                1976   \n",
       "245493        Patrick White                1981   \n",
       "50707      William Abrahams                1990   \n",
       "123688     WILLIAM ABRAHAMS                1992   \n",
       "209571         Leland Ryken                1985   \n",
       "241796       Helen Bacovcin                1978   \n",
       "115627     William Abrahams                1986   \n",
       "56459      William Abrahams                1989   \n",
       "209825  Robert Arthur Smith                1987   \n",
       "\n",
       "                                                 metadata  \n",
       "123687  Prize Stories 1993: The O. Henry Awards (Prize...  \n",
       "214915  King Arthur and His Knights of the Round Table...  \n",
       "245493         Voss (King Penguin S.) Patrick White 1981   \n",
       "50707   Prize Stories 1990: The O. Henry Awards (Prize...  \n",
       "123688  Prize Stories 1992 : The O. Henry Awards (Priz...  \n",
       "209571  How to Read the Bible as Literature Leland Ryk...  \n",
       "241796  The Way of a Pilgrim and the Pilgrim Continues...  \n",
       "115627  Prize Stories 1986: The O. Henry Awards Willia...  \n",
       "56459   Prize Stories 1989: The O. Henry Awards Willia...  \n",
       "209825           Deadly Admirer Robert Arthur Smith 1987   "
      ]
     },
     "execution_count": 64,
     "metadata": {},
     "output_type": "execute_result"
    }
   ],
   "source": [
    "rec2 = recsys2.recommender(100)\n",
    "rec2"
   ]
  },
  {
   "cell_type": "markdown",
   "id": "d05c7291",
   "metadata": {},
   "source": [
    "## 5.4 Scoring"
   ]
  },
  {
   "cell_type": "markdown",
   "id": "80c6f6a1",
   "metadata": {},
   "source": [
    "## 5.4.1 Try"
   ]
  },
  {
   "cell_type": "code",
   "execution_count": 65,
   "id": "3b65af28",
   "metadata": {},
   "outputs": [],
   "source": [
    "from sklearn.metrics.pairwise import cosine_similarity\n",
    "import numpy as np"
   ]
  },
  {
   "cell_type": "code",
   "execution_count": 66,
   "id": "e71a6a84",
   "metadata": {},
   "outputs": [
    {
     "data": {
      "text/html": [
       "<div>\n",
       "<style scoped>\n",
       "    .dataframe tbody tr th:only-of-type {\n",
       "        vertical-align: middle;\n",
       "    }\n",
       "\n",
       "    .dataframe tbody tr th {\n",
       "        vertical-align: top;\n",
       "    }\n",
       "\n",
       "    .dataframe thead th {\n",
       "        text-align: right;\n",
       "    }\n",
       "</style>\n",
       "<table border=\"1\" class=\"dataframe\">\n",
       "  <thead>\n",
       "    <tr style=\"text-align: right;\">\n",
       "      <th></th>\n",
       "      <th>ISBN</th>\n",
       "      <th>Book-Title</th>\n",
       "      <th>Book-Author</th>\n",
       "      <th>Year-Of-Publication</th>\n",
       "      <th>metadata</th>\n",
       "    </tr>\n",
       "  </thead>\n",
       "  <tbody>\n",
       "    <tr>\n",
       "      <th>0</th>\n",
       "      <td>0385235941</td>\n",
       "      <td>Prize Stories, 1987: The O'Henry Awards</td>\n",
       "      <td>William Abrahams</td>\n",
       "      <td>1987</td>\n",
       "      <td>Prize Stories, 1987: The O'Henry Awards Willia...</td>\n",
       "    </tr>\n",
       "  </tbody>\n",
       "</table>\n",
       "</div>"
      ],
      "text/plain": [
       "         ISBN                               Book-Title       Book-Author  \\\n",
       "0  0385235941  Prize Stories, 1987: The O'Henry Awards  William Abrahams   \n",
       "\n",
       "  Year-Of-Publication                                           metadata  \n",
       "0                1987  Prize Stories, 1987: The O'Henry Awards Willia...  "
      ]
     },
     "execution_count": 66,
     "metadata": {},
     "output_type": "execute_result"
    }
   ],
   "source": [
    "book = pd.DataFrame(dict(df_fix.loc[100,:]), index=[0])\n",
    "book"
   ]
  },
  {
   "cell_type": "code",
   "execution_count": 67,
   "id": "7f8d6208",
   "metadata": {},
   "outputs": [
    {
     "data": {
      "text/html": [
       "<div>\n",
       "<style scoped>\n",
       "    .dataframe tbody tr th:only-of-type {\n",
       "        vertical-align: middle;\n",
       "    }\n",
       "\n",
       "    .dataframe tbody tr th {\n",
       "        vertical-align: top;\n",
       "    }\n",
       "\n",
       "    .dataframe thead th {\n",
       "        text-align: right;\n",
       "    }\n",
       "</style>\n",
       "<table border=\"1\" class=\"dataframe\">\n",
       "  <thead>\n",
       "    <tr style=\"text-align: right;\">\n",
       "      <th></th>\n",
       "      <th>ISBN</th>\n",
       "      <th>Book-Title</th>\n",
       "      <th>Book-Author</th>\n",
       "      <th>Year-Of-Publication</th>\n",
       "      <th>metadata</th>\n",
       "    </tr>\n",
       "  </thead>\n",
       "  <tbody>\n",
       "    <tr>\n",
       "      <th>123687</th>\n",
       "      <td>0385425325</td>\n",
       "      <td>Prize Stories 1993: The O. Henry Awards (Prize...</td>\n",
       "      <td>William Abrahams</td>\n",
       "      <td>1993</td>\n",
       "      <td>Prize Stories 1993: The O. Henry Awards (Prize...</td>\n",
       "    </tr>\n",
       "    <tr>\n",
       "      <th>214915</th>\n",
       "      <td>0448060167</td>\n",
       "      <td>King Arthur and His Knights of the Round Table...</td>\n",
       "      <td>Thomas Mallory</td>\n",
       "      <td>1976</td>\n",
       "      <td>King Arthur and His Knights of the Round Table...</td>\n",
       "    </tr>\n",
       "    <tr>\n",
       "      <th>245493</th>\n",
       "      <td>0140060081</td>\n",
       "      <td>Voss (King Penguin S.)</td>\n",
       "      <td>Patrick White</td>\n",
       "      <td>1981</td>\n",
       "      <td>Voss (King Penguin S.) Patrick White 1981</td>\n",
       "    </tr>\n",
       "    <tr>\n",
       "      <th>50707</th>\n",
       "      <td>0385264992</td>\n",
       "      <td>Prize Stories 1990: The O. Henry Awards (Prize...</td>\n",
       "      <td>William Abrahams</td>\n",
       "      <td>1990</td>\n",
       "      <td>Prize Stories 1990: The O. Henry Awards (Prize...</td>\n",
       "    </tr>\n",
       "    <tr>\n",
       "      <th>123688</th>\n",
       "      <td>0385421923</td>\n",
       "      <td>Prize Stories 1992 : The O. Henry Awards (Priz...</td>\n",
       "      <td>WILLIAM ABRAHAMS</td>\n",
       "      <td>1992</td>\n",
       "      <td>Prize Stories 1992 : The O. Henry Awards (Priz...</td>\n",
       "    </tr>\n",
       "    <tr>\n",
       "      <th>209571</th>\n",
       "      <td>0310390214</td>\n",
       "      <td>How to Read the Bible as Literature</td>\n",
       "      <td>Leland Ryken</td>\n",
       "      <td>1985</td>\n",
       "      <td>How to Read the Bible as Literature Leland Ryk...</td>\n",
       "    </tr>\n",
       "    <tr>\n",
       "      <th>241796</th>\n",
       "      <td>0385124007</td>\n",
       "      <td>The Way of a Pilgrim and the Pilgrim Continues...</td>\n",
       "      <td>Helen Bacovcin</td>\n",
       "      <td>1978</td>\n",
       "      <td>The Way of a Pilgrim and the Pilgrim Continues...</td>\n",
       "    </tr>\n",
       "    <tr>\n",
       "      <th>115627</th>\n",
       "      <td>0385231555</td>\n",
       "      <td>Prize Stories 1986: The O. Henry Awards</td>\n",
       "      <td>William Abrahams</td>\n",
       "      <td>1986</td>\n",
       "      <td>Prize Stories 1986: The O. Henry Awards Willia...</td>\n",
       "    </tr>\n",
       "    <tr>\n",
       "      <th>56459</th>\n",
       "      <td>038524634X</td>\n",
       "      <td>Prize Stories 1989: The O. Henry Awards</td>\n",
       "      <td>William Abrahams</td>\n",
       "      <td>1989</td>\n",
       "      <td>Prize Stories 1989: The O. Henry Awards Willia...</td>\n",
       "    </tr>\n",
       "    <tr>\n",
       "      <th>209825</th>\n",
       "      <td>0449130193</td>\n",
       "      <td>Deadly Admirer</td>\n",
       "      <td>Robert Arthur Smith</td>\n",
       "      <td>1987</td>\n",
       "      <td>Deadly Admirer Robert Arthur Smith 1987</td>\n",
       "    </tr>\n",
       "  </tbody>\n",
       "</table>\n",
       "</div>"
      ],
      "text/plain": [
       "              ISBN                                         Book-Title  \\\n",
       "123687  0385425325  Prize Stories 1993: The O. Henry Awards (Prize...   \n",
       "214915  0448060167  King Arthur and His Knights of the Round Table...   \n",
       "245493  0140060081                             Voss (King Penguin S.)   \n",
       "50707   0385264992  Prize Stories 1990: The O. Henry Awards (Prize...   \n",
       "123688  0385421923  Prize Stories 1992 : The O. Henry Awards (Priz...   \n",
       "209571  0310390214                How to Read the Bible as Literature   \n",
       "241796  0385124007  The Way of a Pilgrim and the Pilgrim Continues...   \n",
       "115627  0385231555            Prize Stories 1986: The O. Henry Awards   \n",
       "56459   038524634X            Prize Stories 1989: The O. Henry Awards   \n",
       "209825  0449130193                                     Deadly Admirer   \n",
       "\n",
       "                Book-Author Year-Of-Publication  \\\n",
       "123687     William Abrahams                1993   \n",
       "214915       Thomas Mallory                1976   \n",
       "245493        Patrick White                1981   \n",
       "50707      William Abrahams                1990   \n",
       "123688     WILLIAM ABRAHAMS                1992   \n",
       "209571         Leland Ryken                1985   \n",
       "241796       Helen Bacovcin                1978   \n",
       "115627     William Abrahams                1986   \n",
       "56459      William Abrahams                1989   \n",
       "209825  Robert Arthur Smith                1987   \n",
       "\n",
       "                                                 metadata  \n",
       "123687  Prize Stories 1993: The O. Henry Awards (Prize...  \n",
       "214915  King Arthur and His Knights of the Round Table...  \n",
       "245493         Voss (King Penguin S.) Patrick White 1981   \n",
       "50707   Prize Stories 1990: The O. Henry Awards (Prize...  \n",
       "123688  Prize Stories 1992 : The O. Henry Awards (Priz...  \n",
       "209571  How to Read the Bible as Literature Leland Ryk...  \n",
       "241796  The Way of a Pilgrim and the Pilgrim Continues...  \n",
       "115627  Prize Stories 1986: The O. Henry Awards Willia...  \n",
       "56459   Prize Stories 1989: The O. Henry Awards Willia...  \n",
       "209825           Deadly Admirer Robert Arthur Smith 1987   "
      ]
     },
     "execution_count": 67,
     "metadata": {},
     "output_type": "execute_result"
    }
   ],
   "source": [
    "rec2"
   ]
  },
  {
   "cell_type": "code",
   "execution_count": 68,
   "id": "7e1ae5a0",
   "metadata": {},
   "outputs": [
    {
     "data": {
      "text/plain": [
       "0.3912628618486978"
      ]
     },
     "execution_count": 68,
     "metadata": {},
     "output_type": "execute_result"
    }
   ],
   "source": [
    "np.mean(cosine_similarity(bow.transform(book.metadata.values), bow.transform(rec.metadata)))"
   ]
  },
  {
   "cell_type": "code",
   "execution_count": 69,
   "id": "92bf8b92",
   "metadata": {},
   "outputs": [
    {
     "data": {
      "text/plain": [
       "0.42042146692295573"
      ]
     },
     "execution_count": 69,
     "metadata": {},
     "output_type": "execute_result"
    }
   ],
   "source": [
    "np.mean(cosine_similarity(tfidf.transform(book.metadata.values), tfidf.transform(rec.metadata)))"
   ]
  },
  {
   "cell_type": "markdown",
   "id": "b28a303d",
   "metadata": {},
   "source": [
    "## 5.4.2 Bungkus kembali kedalam class"
   ]
  },
  {
   "cell_type": "code",
   "execution_count": 70,
   "id": "b321e5ee",
   "metadata": {},
   "outputs": [],
   "source": [
    "class RecommendationSystems():\n",
    "    def __init__(self,data, metadata_col):\n",
    "        self.df = data\n",
    "        self.metadata = metadata_col\n",
    "        self.encoder = None\n",
    "        self.bank = None\n",
    "        self.content = None\n",
    "        self.index = None\n",
    "        self.topn = None\n",
    "    \n",
    "    def fit(self, encoder='tfidf'):\n",
    "        if encoder not in ['bow', 'tfidf']:\n",
    "            print(\"hanya support BoW dan TF-IDF\")\n",
    "        else:\n",
    "            self.encoder = TfidfVectorizer()\n",
    "            if encoder=='bow':\n",
    "                self.encoder = CountVectorizer()\n",
    "            self.bank = self.encoder.fit_transform(self.df[self.metadata])\n",
    "    def recommender(self, index, topn=10, include_book_search=False):\n",
    "        self.index = index       \n",
    "        self.topn = topn\n",
    "        self.content = self.df.loc[index, self.metadata]\n",
    "        code = self.encoder.transform([self.content])\n",
    "        distance = cosine_distances(code, self.bank)\n",
    "        rec_idx = distance.argsort()[0, :]\n",
    "        if include_book_search:\n",
    "            topn+=1\n",
    "            return self.df.loc[rec_idx[:topn], :] \n",
    "        return self.df.loc[rec_idx[1:topn], :]\n",
    "\n",
    "    def score(self):\n",
    "        rec = self.recommender(index=self.index, topn=self.topn, include_book_search=True)\n",
    "        bank = self.encoder.transform(rec.metadata)\n",
    "        code = self.encoder.transform([self.content])\n",
    "        return np.mean(cosine_similarity(code, bank)[:,1:])"
   ]
  },
  {
   "cell_type": "code",
   "execution_count": 71,
   "id": "a7473b17",
   "metadata": {},
   "outputs": [
    {
     "data": {
      "text/html": [
       "<div>\n",
       "<style scoped>\n",
       "    .dataframe tbody tr th:only-of-type {\n",
       "        vertical-align: middle;\n",
       "    }\n",
       "\n",
       "    .dataframe tbody tr th {\n",
       "        vertical-align: top;\n",
       "    }\n",
       "\n",
       "    .dataframe thead th {\n",
       "        text-align: right;\n",
       "    }\n",
       "</style>\n",
       "<table border=\"1\" class=\"dataframe\">\n",
       "  <thead>\n",
       "    <tr style=\"text-align: right;\">\n",
       "      <th></th>\n",
       "      <th>ISBN</th>\n",
       "      <th>Book-Title</th>\n",
       "      <th>Book-Author</th>\n",
       "      <th>Year-Of-Publication</th>\n",
       "      <th>metadata</th>\n",
       "    </tr>\n",
       "  </thead>\n",
       "  <tbody>\n",
       "    <tr>\n",
       "      <th>100</th>\n",
       "      <td>0385235941</td>\n",
       "      <td>Prize Stories, 1987: The O'Henry Awards</td>\n",
       "      <td>William Abrahams</td>\n",
       "      <td>1987</td>\n",
       "      <td>Prize Stories, 1987: The O'Henry Awards Willia...</td>\n",
       "    </tr>\n",
       "    <tr>\n",
       "      <th>214915</th>\n",
       "      <td>0448060167</td>\n",
       "      <td>King Arthur and His Knights of the Round Table...</td>\n",
       "      <td>Thomas Mallory</td>\n",
       "      <td>1976</td>\n",
       "      <td>King Arthur and His Knights of the Round Table...</td>\n",
       "    </tr>\n",
       "    <tr>\n",
       "      <th>123687</th>\n",
       "      <td>0385425325</td>\n",
       "      <td>Prize Stories 1993: The O. Henry Awards (Prize...</td>\n",
       "      <td>William Abrahams</td>\n",
       "      <td>1993</td>\n",
       "      <td>Prize Stories 1993: The O. Henry Awards (Prize...</td>\n",
       "    </tr>\n",
       "    <tr>\n",
       "      <th>123688</th>\n",
       "      <td>0385421923</td>\n",
       "      <td>Prize Stories 1992 : The O. Henry Awards (Priz...</td>\n",
       "      <td>WILLIAM ABRAHAMS</td>\n",
       "      <td>1992</td>\n",
       "      <td>Prize Stories 1992 : The O. Henry Awards (Priz...</td>\n",
       "    </tr>\n",
       "    <tr>\n",
       "      <th>245493</th>\n",
       "      <td>0140060081</td>\n",
       "      <td>Voss (King Penguin S.)</td>\n",
       "      <td>Patrick White</td>\n",
       "      <td>1981</td>\n",
       "      <td>Voss (King Penguin S.) Patrick White 1981</td>\n",
       "    </tr>\n",
       "    <tr>\n",
       "      <th>50707</th>\n",
       "      <td>0385264992</td>\n",
       "      <td>Prize Stories 1990: The O. Henry Awards (Prize...</td>\n",
       "      <td>William Abrahams</td>\n",
       "      <td>1990</td>\n",
       "      <td>Prize Stories 1990: The O. Henry Awards (Prize...</td>\n",
       "    </tr>\n",
       "    <tr>\n",
       "      <th>209825</th>\n",
       "      <td>0449130193</td>\n",
       "      <td>Deadly Admirer</td>\n",
       "      <td>Robert Arthur Smith</td>\n",
       "      <td>1987</td>\n",
       "      <td>Deadly Admirer Robert Arthur Smith 1987</td>\n",
       "    </tr>\n",
       "    <tr>\n",
       "      <th>241796</th>\n",
       "      <td>0385124007</td>\n",
       "      <td>The Way of a Pilgrim and the Pilgrim Continues...</td>\n",
       "      <td>Helen Bacovcin</td>\n",
       "      <td>1978</td>\n",
       "      <td>The Way of a Pilgrim and the Pilgrim Continues...</td>\n",
       "    </tr>\n",
       "    <tr>\n",
       "      <th>56459</th>\n",
       "      <td>038524634X</td>\n",
       "      <td>Prize Stories 1989: The O. Henry Awards</td>\n",
       "      <td>William Abrahams</td>\n",
       "      <td>1989</td>\n",
       "      <td>Prize Stories 1989: The O. Henry Awards Willia...</td>\n",
       "    </tr>\n",
       "    <tr>\n",
       "      <th>209571</th>\n",
       "      <td>0310390214</td>\n",
       "      <td>How to Read the Bible as Literature</td>\n",
       "      <td>Leland Ryken</td>\n",
       "      <td>1985</td>\n",
       "      <td>How to Read the Bible as Literature Leland Ryk...</td>\n",
       "    </tr>\n",
       "    <tr>\n",
       "      <th>115627</th>\n",
       "      <td>0385231555</td>\n",
       "      <td>Prize Stories 1986: The O. Henry Awards</td>\n",
       "      <td>William Abrahams</td>\n",
       "      <td>1986</td>\n",
       "      <td>Prize Stories 1986: The O. Henry Awards Willia...</td>\n",
       "    </tr>\n",
       "  </tbody>\n",
       "</table>\n",
       "</div>"
      ],
      "text/plain": [
       "              ISBN                                         Book-Title  \\\n",
       "100     0385235941            Prize Stories, 1987: The O'Henry Awards   \n",
       "214915  0448060167  King Arthur and His Knights of the Round Table...   \n",
       "123687  0385425325  Prize Stories 1993: The O. Henry Awards (Prize...   \n",
       "123688  0385421923  Prize Stories 1992 : The O. Henry Awards (Priz...   \n",
       "245493  0140060081                             Voss (King Penguin S.)   \n",
       "50707   0385264992  Prize Stories 1990: The O. Henry Awards (Prize...   \n",
       "209825  0449130193                                     Deadly Admirer   \n",
       "241796  0385124007  The Way of a Pilgrim and the Pilgrim Continues...   \n",
       "56459   038524634X            Prize Stories 1989: The O. Henry Awards   \n",
       "209571  0310390214                How to Read the Bible as Literature   \n",
       "115627  0385231555            Prize Stories 1986: The O. Henry Awards   \n",
       "\n",
       "                Book-Author Year-Of-Publication  \\\n",
       "100        William Abrahams                1987   \n",
       "214915       Thomas Mallory                1976   \n",
       "123687     William Abrahams                1993   \n",
       "123688     WILLIAM ABRAHAMS                1992   \n",
       "245493        Patrick White                1981   \n",
       "50707      William Abrahams                1990   \n",
       "209825  Robert Arthur Smith                1987   \n",
       "241796       Helen Bacovcin                1978   \n",
       "56459      William Abrahams                1989   \n",
       "209571         Leland Ryken                1985   \n",
       "115627     William Abrahams                1986   \n",
       "\n",
       "                                                 metadata  \n",
       "100     Prize Stories, 1987: The O'Henry Awards Willia...  \n",
       "214915  King Arthur and His Knights of the Round Table...  \n",
       "123687  Prize Stories 1993: The O. Henry Awards (Prize...  \n",
       "123688  Prize Stories 1992 : The O. Henry Awards (Priz...  \n",
       "245493         Voss (King Penguin S.) Patrick White 1981   \n",
       "50707   Prize Stories 1990: The O. Henry Awards (Prize...  \n",
       "209825           Deadly Admirer Robert Arthur Smith 1987   \n",
       "241796  The Way of a Pilgrim and the Pilgrim Continues...  \n",
       "56459   Prize Stories 1989: The O. Henry Awards Willia...  \n",
       "209571  How to Read the Bible as Literature Leland Ryk...  \n",
       "115627  Prize Stories 1986: The O. Henry Awards Willia...  "
      ]
     },
     "execution_count": 71,
     "metadata": {},
     "output_type": "execute_result"
    }
   ],
   "source": [
    "recsys3 = RecommendationSystems(df_fix, 'metadata')\n",
    "recsys3.fit()\n",
    "recsys3.recommender(index=100, include_book_search=True)"
   ]
  },
  {
   "cell_type": "code",
   "execution_count": 72,
   "id": "5b157e7c",
   "metadata": {},
   "outputs": [
    {
     "data": {
      "text/plain": [
       "0.42042146692295573"
      ]
     },
     "execution_count": 72,
     "metadata": {},
     "output_type": "execute_result"
    }
   ],
   "source": [
    "recsys3.score()"
   ]
  },
  {
   "cell_type": "code",
   "execution_count": 73,
   "id": "419a6439",
   "metadata": {},
   "outputs": [],
   "source": [
    "import time"
   ]
  },
  {
   "cell_type": "code",
   "execution_count": 74,
   "id": "8034c15b",
   "metadata": {},
   "outputs": [
    {
     "name": "stdout",
     "output_type": "stream",
     "text": [
      "Training time: 3.260321855545044 s\n",
      "Score :  0.3912628618486978\n"
     ]
    }
   ],
   "source": [
    "start = time.time()\n",
    "recsys4 = RecommendationSystems(df_fix, 'metadata')\n",
    "recsys4.fit('bow')\n",
    "recsys4.recommender(index=100)\n",
    "stop = time.time()\n",
    "print(f\"Training time: {stop - start} s\")\n",
    "print(\"Score : \",recsys4.score())"
   ]
  },
  {
   "cell_type": "markdown",
   "id": "0e824aeb",
   "metadata": {},
   "source": [
    "## 5.4.3 Scoring Model dengan *Bag Of Word* top 5 rekomendasi"
   ]
  },
  {
   "cell_type": "code",
   "execution_count": 75,
   "id": "1433d5f9",
   "metadata": {},
   "outputs": [],
   "source": [
    "recsys = RecommendationSystems(data=df_fix, metadata_col='metadata')\n",
    "recsys.fit(encoder='bow')"
   ]
  },
  {
   "cell_type": "code",
   "execution_count": 76,
   "id": "a3b62303",
   "metadata": {},
   "outputs": [
    {
     "data": {
      "text/html": [
       "<div>\n",
       "<style scoped>\n",
       "    .dataframe tbody tr th:only-of-type {\n",
       "        vertical-align: middle;\n",
       "    }\n",
       "\n",
       "    .dataframe tbody tr th {\n",
       "        vertical-align: top;\n",
       "    }\n",
       "\n",
       "    .dataframe thead th {\n",
       "        text-align: right;\n",
       "    }\n",
       "</style>\n",
       "<table border=\"1\" class=\"dataframe\">\n",
       "  <thead>\n",
       "    <tr style=\"text-align: right;\">\n",
       "      <th></th>\n",
       "      <th>ISBN</th>\n",
       "      <th>Book-Title</th>\n",
       "      <th>Book-Author</th>\n",
       "      <th>Year-Of-Publication</th>\n",
       "      <th>metadata</th>\n",
       "    </tr>\n",
       "  </thead>\n",
       "  <tbody>\n",
       "    <tr>\n",
       "      <th>100</th>\n",
       "      <td>0385235941</td>\n",
       "      <td>Prize Stories, 1987: The O'Henry Awards</td>\n",
       "      <td>William Abrahams</td>\n",
       "      <td>1987</td>\n",
       "      <td>Prize Stories, 1987: The O'Henry Awards Willia...</td>\n",
       "    </tr>\n",
       "    <tr>\n",
       "      <th>123687</th>\n",
       "      <td>0385425325</td>\n",
       "      <td>Prize Stories 1993: The O. Henry Awards (Prize...</td>\n",
       "      <td>William Abrahams</td>\n",
       "      <td>1993</td>\n",
       "      <td>Prize Stories 1993: The O. Henry Awards (Prize...</td>\n",
       "    </tr>\n",
       "    <tr>\n",
       "      <th>214915</th>\n",
       "      <td>0448060167</td>\n",
       "      <td>King Arthur and His Knights of the Round Table...</td>\n",
       "      <td>Thomas Mallory</td>\n",
       "      <td>1976</td>\n",
       "      <td>King Arthur and His Knights of the Round Table...</td>\n",
       "    </tr>\n",
       "    <tr>\n",
       "      <th>245493</th>\n",
       "      <td>0140060081</td>\n",
       "      <td>Voss (King Penguin S.)</td>\n",
       "      <td>Patrick White</td>\n",
       "      <td>1981</td>\n",
       "      <td>Voss (King Penguin S.) Patrick White 1981</td>\n",
       "    </tr>\n",
       "    <tr>\n",
       "      <th>50707</th>\n",
       "      <td>0385264992</td>\n",
       "      <td>Prize Stories 1990: The O. Henry Awards (Prize...</td>\n",
       "      <td>William Abrahams</td>\n",
       "      <td>1990</td>\n",
       "      <td>Prize Stories 1990: The O. Henry Awards (Prize...</td>\n",
       "    </tr>\n",
       "    <tr>\n",
       "      <th>123688</th>\n",
       "      <td>0385421923</td>\n",
       "      <td>Prize Stories 1992 : The O. Henry Awards (Priz...</td>\n",
       "      <td>WILLIAM ABRAHAMS</td>\n",
       "      <td>1992</td>\n",
       "      <td>Prize Stories 1992 : The O. Henry Awards (Priz...</td>\n",
       "    </tr>\n",
       "  </tbody>\n",
       "</table>\n",
       "</div>"
      ],
      "text/plain": [
       "              ISBN                                         Book-Title  \\\n",
       "100     0385235941            Prize Stories, 1987: The O'Henry Awards   \n",
       "123687  0385425325  Prize Stories 1993: The O. Henry Awards (Prize...   \n",
       "214915  0448060167  King Arthur and His Knights of the Round Table...   \n",
       "245493  0140060081                             Voss (King Penguin S.)   \n",
       "50707   0385264992  Prize Stories 1990: The O. Henry Awards (Prize...   \n",
       "123688  0385421923  Prize Stories 1992 : The O. Henry Awards (Priz...   \n",
       "\n",
       "             Book-Author Year-Of-Publication  \\\n",
       "100     William Abrahams                1987   \n",
       "123687  William Abrahams                1993   \n",
       "214915    Thomas Mallory                1976   \n",
       "245493     Patrick White                1981   \n",
       "50707   William Abrahams                1990   \n",
       "123688  WILLIAM ABRAHAMS                1992   \n",
       "\n",
       "                                                 metadata  \n",
       "100     Prize Stories, 1987: The O'Henry Awards Willia...  \n",
       "123687  Prize Stories 1993: The O. Henry Awards (Prize...  \n",
       "214915  King Arthur and His Knights of the Round Table...  \n",
       "245493         Voss (King Penguin S.) Patrick White 1981   \n",
       "50707   Prize Stories 1990: The O. Henry Awards (Prize...  \n",
       "123688  Prize Stories 1992 : The O. Henry Awards (Priz...  "
      ]
     },
     "execution_count": 76,
     "metadata": {},
     "output_type": "execute_result"
    }
   ],
   "source": [
    "recsys.recommender(index=100, topn=5, include_book_search=True)"
   ]
  },
  {
   "cell_type": "code",
   "execution_count": 77,
   "id": "5d8311a9",
   "metadata": {},
   "outputs": [
    {
     "data": {
      "text/plain": [
       "0.43335635317690535"
      ]
     },
     "execution_count": 77,
     "metadata": {},
     "output_type": "execute_result"
    }
   ],
   "source": [
    "recsys.score()"
   ]
  },
  {
   "cell_type": "code",
   "execution_count": 78,
   "id": "c402e9f8",
   "metadata": {},
   "outputs": [
    {
     "data": {
      "text/html": [
       "<div>\n",
       "<style scoped>\n",
       "    .dataframe tbody tr th:only-of-type {\n",
       "        vertical-align: middle;\n",
       "    }\n",
       "\n",
       "    .dataframe tbody tr th {\n",
       "        vertical-align: top;\n",
       "    }\n",
       "\n",
       "    .dataframe thead th {\n",
       "        text-align: right;\n",
       "    }\n",
       "</style>\n",
       "<table border=\"1\" class=\"dataframe\">\n",
       "  <thead>\n",
       "    <tr style=\"text-align: right;\">\n",
       "      <th></th>\n",
       "      <th>ISBN</th>\n",
       "      <th>Book-Title</th>\n",
       "      <th>Book-Author</th>\n",
       "      <th>Year-Of-Publication</th>\n",
       "      <th>metadata</th>\n",
       "    </tr>\n",
       "  </thead>\n",
       "  <tbody>\n",
       "    <tr>\n",
       "      <th>1000</th>\n",
       "      <td>0064472779</td>\n",
       "      <td>All-American Girl</td>\n",
       "      <td>Meg Cabot</td>\n",
       "      <td>2003</td>\n",
       "      <td>All-American Girl Meg Cabot 2003</td>\n",
       "    </tr>\n",
       "    <tr>\n",
       "      <th>28636</th>\n",
       "      <td>0330415557</td>\n",
       "      <td>All American Girl</td>\n",
       "      <td>Meg Cabot</td>\n",
       "      <td>2003</td>\n",
       "      <td>All American Girl Meg Cabot 2003</td>\n",
       "    </tr>\n",
       "    <tr>\n",
       "      <th>63799</th>\n",
       "      <td>033040069X</td>\n",
       "      <td>All American Girl</td>\n",
       "      <td>Meg Cabot</td>\n",
       "      <td>2002</td>\n",
       "      <td>All American Girl Meg Cabot 2002</td>\n",
       "    </tr>\n",
       "    <tr>\n",
       "      <th>17397</th>\n",
       "      <td>0060294698</td>\n",
       "      <td>All-American Girl</td>\n",
       "      <td>Meg Cabot</td>\n",
       "      <td>2002</td>\n",
       "      <td>All-American Girl Meg Cabot 2002</td>\n",
       "    </tr>\n",
       "    <tr>\n",
       "      <th>26077</th>\n",
       "      <td>0060085452</td>\n",
       "      <td>Boy Meets Girl</td>\n",
       "      <td>Meg Cabot</td>\n",
       "      <td>2004</td>\n",
       "      <td>Boy Meets Girl Meg Cabot 2004</td>\n",
       "    </tr>\n",
       "    <tr>\n",
       "      <th>86868</th>\n",
       "      <td>0739439723</td>\n",
       "      <td>Boy Meets Girl</td>\n",
       "      <td>Meg Cabot</td>\n",
       "      <td>2004</td>\n",
       "      <td>Boy Meets Girl Meg Cabot 2004</td>\n",
       "    </tr>\n",
       "  </tbody>\n",
       "</table>\n",
       "</div>"
      ],
      "text/plain": [
       "             ISBN         Book-Title Book-Author Year-Of-Publication  \\\n",
       "1000   0064472779  All-American Girl   Meg Cabot                2003   \n",
       "28636  0330415557  All American Girl   Meg Cabot                2003   \n",
       "63799  033040069X  All American Girl   Meg Cabot                2002   \n",
       "17397  0060294698  All-American Girl   Meg Cabot                2002   \n",
       "26077  0060085452     Boy Meets Girl   Meg Cabot                2004   \n",
       "86868  0739439723     Boy Meets Girl   Meg Cabot                2004   \n",
       "\n",
       "                                metadata  \n",
       "1000   All-American Girl Meg Cabot 2003   \n",
       "28636  All American Girl Meg Cabot 2003   \n",
       "63799  All American Girl Meg Cabot 2002   \n",
       "17397  All-American Girl Meg Cabot 2002   \n",
       "26077     Boy Meets Girl Meg Cabot 2004   \n",
       "86868     Boy Meets Girl Meg Cabot 2004   "
      ]
     },
     "execution_count": 78,
     "metadata": {},
     "output_type": "execute_result"
    }
   ],
   "source": [
    "recsys.recommender(index=1000, topn=5, include_book_search=True)"
   ]
  },
  {
   "cell_type": "code",
   "execution_count": 79,
   "id": "e545a8df",
   "metadata": {},
   "outputs": [
    {
     "data": {
      "text/plain": [
       "0.7333333333333335"
      ]
     },
     "execution_count": 79,
     "metadata": {},
     "output_type": "execute_result"
    }
   ],
   "source": [
    "recsys.score()"
   ]
  },
  {
   "cell_type": "markdown",
   "id": "6a727eb2",
   "metadata": {},
   "source": [
    "## 5.4.4 Scoring Model Tf-idf"
   ]
  },
  {
   "cell_type": "code",
   "execution_count": 80,
   "id": "bee876be",
   "metadata": {},
   "outputs": [],
   "source": [
    "recsys = RecommendationSystems(data=df_fix, metadata_col='metadata')\n",
    "recsys.fit(encoder='tfidf')"
   ]
  },
  {
   "cell_type": "code",
   "execution_count": 81,
   "id": "987db96f",
   "metadata": {},
   "outputs": [
    {
     "data": {
      "text/html": [
       "<div>\n",
       "<style scoped>\n",
       "    .dataframe tbody tr th:only-of-type {\n",
       "        vertical-align: middle;\n",
       "    }\n",
       "\n",
       "    .dataframe tbody tr th {\n",
       "        vertical-align: top;\n",
       "    }\n",
       "\n",
       "    .dataframe thead th {\n",
       "        text-align: right;\n",
       "    }\n",
       "</style>\n",
       "<table border=\"1\" class=\"dataframe\">\n",
       "  <thead>\n",
       "    <tr style=\"text-align: right;\">\n",
       "      <th></th>\n",
       "      <th>ISBN</th>\n",
       "      <th>Book-Title</th>\n",
       "      <th>Book-Author</th>\n",
       "      <th>Year-Of-Publication</th>\n",
       "      <th>metadata</th>\n",
       "    </tr>\n",
       "  </thead>\n",
       "  <tbody>\n",
       "    <tr>\n",
       "      <th>100</th>\n",
       "      <td>0385235941</td>\n",
       "      <td>Prize Stories, 1987: The O'Henry Awards</td>\n",
       "      <td>William Abrahams</td>\n",
       "      <td>1987</td>\n",
       "      <td>Prize Stories, 1987: The O'Henry Awards Willia...</td>\n",
       "    </tr>\n",
       "    <tr>\n",
       "      <th>214915</th>\n",
       "      <td>0448060167</td>\n",
       "      <td>King Arthur and His Knights of the Round Table...</td>\n",
       "      <td>Thomas Mallory</td>\n",
       "      <td>1976</td>\n",
       "      <td>King Arthur and His Knights of the Round Table...</td>\n",
       "    </tr>\n",
       "    <tr>\n",
       "      <th>123687</th>\n",
       "      <td>0385425325</td>\n",
       "      <td>Prize Stories 1993: The O. Henry Awards (Prize...</td>\n",
       "      <td>William Abrahams</td>\n",
       "      <td>1993</td>\n",
       "      <td>Prize Stories 1993: The O. Henry Awards (Prize...</td>\n",
       "    </tr>\n",
       "    <tr>\n",
       "      <th>123688</th>\n",
       "      <td>0385421923</td>\n",
       "      <td>Prize Stories 1992 : The O. Henry Awards (Priz...</td>\n",
       "      <td>WILLIAM ABRAHAMS</td>\n",
       "      <td>1992</td>\n",
       "      <td>Prize Stories 1992 : The O. Henry Awards (Priz...</td>\n",
       "    </tr>\n",
       "    <tr>\n",
       "      <th>245493</th>\n",
       "      <td>0140060081</td>\n",
       "      <td>Voss (King Penguin S.)</td>\n",
       "      <td>Patrick White</td>\n",
       "      <td>1981</td>\n",
       "      <td>Voss (King Penguin S.) Patrick White 1981</td>\n",
       "    </tr>\n",
       "    <tr>\n",
       "      <th>50707</th>\n",
       "      <td>0385264992</td>\n",
       "      <td>Prize Stories 1990: The O. Henry Awards (Prize...</td>\n",
       "      <td>William Abrahams</td>\n",
       "      <td>1990</td>\n",
       "      <td>Prize Stories 1990: The O. Henry Awards (Prize...</td>\n",
       "    </tr>\n",
       "  </tbody>\n",
       "</table>\n",
       "</div>"
      ],
      "text/plain": [
       "              ISBN                                         Book-Title  \\\n",
       "100     0385235941            Prize Stories, 1987: The O'Henry Awards   \n",
       "214915  0448060167  King Arthur and His Knights of the Round Table...   \n",
       "123687  0385425325  Prize Stories 1993: The O. Henry Awards (Prize...   \n",
       "123688  0385421923  Prize Stories 1992 : The O. Henry Awards (Priz...   \n",
       "245493  0140060081                             Voss (King Penguin S.)   \n",
       "50707   0385264992  Prize Stories 1990: The O. Henry Awards (Prize...   \n",
       "\n",
       "             Book-Author Year-Of-Publication  \\\n",
       "100     William Abrahams                1987   \n",
       "214915    Thomas Mallory                1976   \n",
       "123687  William Abrahams                1993   \n",
       "123688  WILLIAM ABRAHAMS                1992   \n",
       "245493     Patrick White                1981   \n",
       "50707   William Abrahams                1990   \n",
       "\n",
       "                                                 metadata  \n",
       "100     Prize Stories, 1987: The O'Henry Awards Willia...  \n",
       "214915  King Arthur and His Knights of the Round Table...  \n",
       "123687  Prize Stories 1993: The O. Henry Awards (Prize...  \n",
       "123688  Prize Stories 1992 : The O. Henry Awards (Priz...  \n",
       "245493         Voss (King Penguin S.) Patrick White 1981   \n",
       "50707   Prize Stories 1990: The O. Henry Awards (Prize...  "
      ]
     },
     "execution_count": 81,
     "metadata": {},
     "output_type": "execute_result"
    }
   ],
   "source": [
    "recsys.recommender(index=100, topn=5, include_book_search=True)"
   ]
  },
  {
   "cell_type": "code",
   "execution_count": 82,
   "id": "0543a830",
   "metadata": {},
   "outputs": [
    {
     "data": {
      "text/plain": [
       "0.49243983602215274"
      ]
     },
     "execution_count": 82,
     "metadata": {},
     "output_type": "execute_result"
    }
   ],
   "source": [
    "recsys.score()"
   ]
  },
  {
   "cell_type": "code",
   "execution_count": 83,
   "id": "7de96e2b",
   "metadata": {},
   "outputs": [
    {
     "data": {
      "text/html": [
       "<div>\n",
       "<style scoped>\n",
       "    .dataframe tbody tr th:only-of-type {\n",
       "        vertical-align: middle;\n",
       "    }\n",
       "\n",
       "    .dataframe tbody tr th {\n",
       "        vertical-align: top;\n",
       "    }\n",
       "\n",
       "    .dataframe thead th {\n",
       "        text-align: right;\n",
       "    }\n",
       "</style>\n",
       "<table border=\"1\" class=\"dataframe\">\n",
       "  <thead>\n",
       "    <tr style=\"text-align: right;\">\n",
       "      <th></th>\n",
       "      <th>ISBN</th>\n",
       "      <th>Book-Title</th>\n",
       "      <th>Book-Author</th>\n",
       "      <th>Year-Of-Publication</th>\n",
       "      <th>metadata</th>\n",
       "    </tr>\n",
       "  </thead>\n",
       "  <tbody>\n",
       "    <tr>\n",
       "      <th>1000</th>\n",
       "      <td>0064472779</td>\n",
       "      <td>All-American Girl</td>\n",
       "      <td>Meg Cabot</td>\n",
       "      <td>2003</td>\n",
       "      <td>All-American Girl Meg Cabot 2003</td>\n",
       "    </tr>\n",
       "    <tr>\n",
       "      <th>28636</th>\n",
       "      <td>0330415557</td>\n",
       "      <td>All American Girl</td>\n",
       "      <td>Meg Cabot</td>\n",
       "      <td>2003</td>\n",
       "      <td>All American Girl Meg Cabot 2003</td>\n",
       "    </tr>\n",
       "    <tr>\n",
       "      <th>17397</th>\n",
       "      <td>0060294698</td>\n",
       "      <td>All-American Girl</td>\n",
       "      <td>Meg Cabot</td>\n",
       "      <td>2002</td>\n",
       "      <td>All-American Girl Meg Cabot 2002</td>\n",
       "    </tr>\n",
       "    <tr>\n",
       "      <th>63799</th>\n",
       "      <td>033040069X</td>\n",
       "      <td>All American Girl</td>\n",
       "      <td>Meg Cabot</td>\n",
       "      <td>2002</td>\n",
       "      <td>All American Girl Meg Cabot 2002</td>\n",
       "    </tr>\n",
       "    <tr>\n",
       "      <th>26077</th>\n",
       "      <td>0060085452</td>\n",
       "      <td>Boy Meets Girl</td>\n",
       "      <td>Meg Cabot</td>\n",
       "      <td>2004</td>\n",
       "      <td>Boy Meets Girl Meg Cabot 2004</td>\n",
       "    </tr>\n",
       "    <tr>\n",
       "      <th>86868</th>\n",
       "      <td>0739439723</td>\n",
       "      <td>Boy Meets Girl</td>\n",
       "      <td>Meg Cabot</td>\n",
       "      <td>2004</td>\n",
       "      <td>Boy Meets Girl Meg Cabot 2004</td>\n",
       "    </tr>\n",
       "  </tbody>\n",
       "</table>\n",
       "</div>"
      ],
      "text/plain": [
       "             ISBN         Book-Title Book-Author Year-Of-Publication  \\\n",
       "1000   0064472779  All-American Girl   Meg Cabot                2003   \n",
       "28636  0330415557  All American Girl   Meg Cabot                2003   \n",
       "17397  0060294698  All-American Girl   Meg Cabot                2002   \n",
       "63799  033040069X  All American Girl   Meg Cabot                2002   \n",
       "26077  0060085452     Boy Meets Girl   Meg Cabot                2004   \n",
       "86868  0739439723     Boy Meets Girl   Meg Cabot                2004   \n",
       "\n",
       "                                metadata  \n",
       "1000   All-American Girl Meg Cabot 2003   \n",
       "28636  All American Girl Meg Cabot 2003   \n",
       "17397  All-American Girl Meg Cabot 2002   \n",
       "63799  All American Girl Meg Cabot 2002   \n",
       "26077     Boy Meets Girl Meg Cabot 2004   \n",
       "86868     Boy Meets Girl Meg Cabot 2004   "
      ]
     },
     "execution_count": 83,
     "metadata": {},
     "output_type": "execute_result"
    }
   ],
   "source": [
    "recsys.recommender(index=1000, topn=5, include_book_search=True)"
   ]
  },
  {
   "cell_type": "code",
   "execution_count": 84,
   "id": "afb2d6a6",
   "metadata": {},
   "outputs": [
    {
     "data": {
      "text/plain": [
       "0.8377599612086435"
      ]
     },
     "execution_count": 84,
     "metadata": {},
     "output_type": "execute_result"
    }
   ],
   "source": [
    "recsys.score()"
   ]
  },
  {
   "cell_type": "markdown",
   "id": "77ea2bcf",
   "metadata": {},
   "source": [
    "# 6 Evaluasi"
   ]
  },
  {
   "cell_type": "markdown",
   "id": "d4a948c8",
   "metadata": {},
   "source": [
    "## 6.1 Generate data yang akan dijadikan sampel sebanyak 500 data"
   ]
  },
  {
   "cell_type": "code",
   "execution_count": 85,
   "id": "90772ea7",
   "metadata": {},
   "outputs": [
    {
     "data": {
      "text/plain": [
       "array([1, 4, 5, 7, 7])"
      ]
     },
     "execution_count": 85,
     "metadata": {},
     "output_type": "execute_result"
    }
   ],
   "source": [
    "np.random.randint(0,10, 5)"
   ]
  },
  {
   "cell_type": "code",
   "execution_count": 86,
   "id": "1c0c802a",
   "metadata": {
    "scrolled": true
   },
   "outputs": [
    {
     "data": {
      "text/plain": [
       "array([121114, 109683, 104503,  52396,  69316,  27621, 153576, 258159,\n",
       "       233576,  22506, 237838, 185440, 139493,  52238,    721, 180231,\n",
       "       244284, 153637, 148896,  34984, 209037, 259480,  89758, 160489,\n",
       "       236038,  90334,  55565,  62139,  63779,  16741, 106004,  65883,\n",
       "       128203, 182156,  20648,  36447,  88649, 235703, 180240, 136774,\n",
       "       246138,  88676, 105912, 172027, 183648, 250867,  56949, 124808,\n",
       "        25273, 135815,  97695, 112520,  21305, 216485,   5877,  73929,\n",
       "       260212, 262221,  87143,  45406, 184965, 242659, 233056, 110043,\n",
       "       159186,   3756, 247634, 160057, 254225, 128321,  46875, 118840,\n",
       "       112185, 220096, 181091, 172095, 177928, 266566,  25436,  58467,\n",
       "       259902, 263859,  95820, 233225, 100082, 138870,  90995, 110094,\n",
       "       207567, 138011,  82600, 193199, 205921,   3799,  19193, 202297,\n",
       "       224711, 195680, 174409, 188325, 215978, 267746,   5407, 213465,\n",
       "        38560,  71243,  47275, 112692, 228503,  67524,  63919, 194781,\n",
       "       182281, 128524, 129476, 124726,  95701,  52714, 255120,  15126,\n",
       "        78732, 152785,  95876,  51289,  58603, 209333, 254811, 169783,\n",
       "       178499, 114533,  99579, 200141,  38800,  48304, 204261, 166176,\n",
       "       237791, 189372,  21327,  76448,   1614, 205995, 130110, 153255,\n",
       "       230599,  89525, 212952,  66883, 220862,  26464, 192667,  70282,\n",
       "       193318, 173703,    350, 112900,  83400, 260390, 163319,  15147,\n",
       "       191303, 162070,  61058, 113793, 152486, 200727, 111970, 131142,\n",
       "       244070, 268841, 266192,  37615, 142436, 266490,  79791, 228066,\n",
       "       246177, 207721, 115620, 202634, 126626,   7587, 210000,   5165,\n",
       "        76986,  18108,  10130,   8625, 129109,  69976, 140622, 137406,\n",
       "        72933, 101089, 169997, 268371,  53350, 193041, 259176, 262349,\n",
       "       265195,  54692,  49148, 198091, 124146, 248774,  59533, 135500,\n",
       "       173972, 165785, 211294,  54361,  40450, 177274, 261815, 214659,\n",
       "        47942, 209710, 253399, 134629, 227993, 141896, 196483, 117663,\n",
       "       111953, 188766, 132816, 258618,  33298,   3759, 180493, 174248,\n",
       "       231625, 192548,  80737, 144375,  82488, 106000, 202913,  42589,\n",
       "        28601,  33285,  94173,  55781,  67607,  75452, 125411,  25541,\n",
       "       222019,   9970, 131447, 149143, 236703,  72376, 271087, 123313,\n",
       "       116585,  13708, 260941, 123350,  92815,  26192, 145234,  33088,\n",
       "       119277, 225262, 125547, 268162, 216325,  88375, 244035,  72297,\n",
       "       188500,  37386, 112366,  33495,  65166,  73720,  83851, 235876,\n",
       "        83125, 241524,  89743, 228483, 240760, 223557, 225691,  39841,\n",
       "       152629, 185360, 108661, 236616,  57403,  51897,  91151, 250950,\n",
       "       156362, 186541, 214781, 170826, 233322, 182287, 142670,   9019,\n",
       "        39221, 130745, 102209, 155922,  41055, 213507,  66232,  81176,\n",
       "        41790,  19737, 213524, 243028, 132835, 128881,  62487, 135057,\n",
       "        38812, 177761, 139340, 205050, 260026, 214869, 108379, 178560,\n",
       "       239166, 158353, 178995,   6219, 241231, 177611,  76103, 213870,\n",
       "       111102,  11700, 235792, 250492, 187027, 202502,  45975, 177564,\n",
       "        88063,  20702, 223765,   3782,  74264, 179487, 189374,  25288,\n",
       "       194111, 127723, 215354, 193584,   8418, 116874, 196061, 181368,\n",
       "        29555, 215821, 237216,  55669, 105012, 143109,  58907, 262714,\n",
       "        88625, 232305, 168175,  70657,  12098,  82805, 193327,  41465,\n",
       "       159153, 120951,  81953,  84734, 204640,  77389, 231277,   1069,\n",
       "       179967, 231377, 131078, 160126, 187906,   1490,   5017, 100361,\n",
       "       101250, 193061,  21993,  88812, 218210, 122419, 148954, 202244,\n",
       "       271233,  31077,  95508, 262187,  19315,  78597,  38598,  23532,\n",
       "       210511, 133061, 224850, 180617,  33539, 192339, 167546, 208372,\n",
       "        50185, 145649, 172330,  53582, 133678, 192845,  16221,  94878,\n",
       "        49675, 244407, 143371, 134179,  82392, 235643, 198753,  48466,\n",
       "        32880, 139491, 243012,  24742, 102360,  16484,  38944,   6378,\n",
       "        81159, 111086,  90283, 264730, 147835,  31142,    917,   5976,\n",
       "       162456, 186640, 121904, 171226, 183715, 153911, 189132, 141423,\n",
       "        79783,  29598, 268177, 246121, 114931,  37633, 157673, 131068,\n",
       "       257274, 167981, 231442, 134788, 127726, 119773, 176493, 253704,\n",
       "        12583, 189894, 266545, 172468, 257214, 257566, 112368, 258388,\n",
       "       142799,  26465, 187121,  50927, 155037,  61382, 223434, 221759,\n",
       "       124490, 118824, 122337, 196081, 266409,  58816,  14208,   7163,\n",
       "       249025,  43031, 195009,  33983])"
      ]
     },
     "execution_count": 86,
     "metadata": {},
     "output_type": "execute_result"
    }
   ],
   "source": [
    "idx_sample_list = np.random.randint(0,len(df_fix), 500)\n",
    "idx_sample_list"
   ]
  },
  {
   "cell_type": "code",
   "execution_count": 87,
   "id": "3058e879",
   "metadata": {
    "scrolled": true
   },
   "outputs": [
    {
     "data": {
      "text/plain": [
       "500"
      ]
     },
     "execution_count": 87,
     "metadata": {},
     "output_type": "execute_result"
    }
   ],
   "source": [
    "len(idx_sample_list)"
   ]
  },
  {
   "cell_type": "code",
   "execution_count": 88,
   "id": "0c31a60e",
   "metadata": {},
   "outputs": [
    {
     "data": {
      "text/plain": [
       "500"
      ]
     },
     "execution_count": 88,
     "metadata": {},
     "output_type": "execute_result"
    }
   ],
   "source": [
    "idx_sample_list2 = [i for i in np.random.randint(0,len(df_fix), 500) if i not in idx_sample_list]\n",
    "len(idx_sample_list2)"
   ]
  },
  {
   "cell_type": "code",
   "execution_count": 89,
   "id": "be61cac4",
   "metadata": {},
   "outputs": [],
   "source": [
    "from tqdm import tqdm"
   ]
  },
  {
   "cell_type": "markdown",
   "id": "11031c3f",
   "metadata": {},
   "source": [
    "## 6.2 Define Loop Function"
   ]
  },
  {
   "cell_type": "code",
   "execution_count": 90,
   "id": "14ff8d10",
   "metadata": {},
   "outputs": [],
   "source": [
    "def loop_rec(data, metadata_col='metadata', encoder='tfidf', sample_list=[0,2,10],topn=10, return_dict=False):\n",
    "    score_list = []\n",
    "    score_dict = {}\n",
    "    idx_done = []\n",
    "    recsys = RecommendationSystems(data, metadata_col)\n",
    "    recsys.fit(encoder)\n",
    "    for i in tqdm(sample_list):\n",
    "        while True:\n",
    "            idx = np.random.randint(low=0, high=len(data))\n",
    "            if idx not in idx_done:\n",
    "                idx_done.append(idx)\n",
    "                break\n",
    "        recsys.recommender(index=idx, topn=topn)\n",
    "        score = recsys.score()\n",
    "        score_list.append(score)\n",
    "        score_dict[idx] = score\n",
    "    if return_dict:\n",
    "        return score_dict, np.mean(score_list)\n",
    "    return np.mean(score_list)"
   ]
  },
  {
   "cell_type": "markdown",
   "id": "62b83e49",
   "metadata": {},
   "source": [
    "## 6.3 Model Bag-of-word "
   ]
  },
  {
   "cell_type": "code",
   "execution_count": 91,
   "id": "9f649ef2",
   "metadata": {},
   "outputs": [
    {
     "name": "stderr",
     "output_type": "stream",
     "text": [
      "100%|████████████████████████████████████████████████████████████████████████████████| 500/500 [04:37<00:00,  1.80it/s]\n"
     ]
    }
   ],
   "source": [
    "dict_score_bow, score_bow = loop_rec(data=df_fix,\n",
    "                                     metadata_col='metadata',\n",
    "                                     encoder='bow',\n",
    "                                     topn=5,\n",
    "                                     sample_list=idx_sample_list,\n",
    "                                     return_dict=True)"
   ]
  },
  {
   "cell_type": "code",
   "execution_count": 92,
   "id": "04bde60c",
   "metadata": {},
   "outputs": [
    {
     "data": {
      "text/plain": [
       "0.3880814043297224"
      ]
     },
     "execution_count": 92,
     "metadata": {},
     "output_type": "execute_result"
    }
   ],
   "source": [
    "score_bow"
   ]
  },
  {
   "cell_type": "code",
   "execution_count": 93,
   "id": "2d531efc",
   "metadata": {},
   "outputs": [
    {
     "name": "stderr",
     "output_type": "stream",
     "text": [
      "100%|████████████████████████████████████████████████████████████████████████████████| 500/500 [04:34<00:00,  1.82it/s]\n"
     ]
    }
   ],
   "source": [
    "dict_score_bow2, score_bow2 = loop_rec(data=df_fix,\n",
    "                                     metadata_col='metadata',\n",
    "                                     encoder='bow',\n",
    "                                     topn=5,\n",
    "                                     sample_list=idx_sample_list2,\n",
    "                                     return_dict=True)"
   ]
  },
  {
   "cell_type": "code",
   "execution_count": 94,
   "id": "7e42bfcb",
   "metadata": {},
   "outputs": [
    {
     "data": {
      "text/plain": [
       "0.39754210871983325"
      ]
     },
     "execution_count": 94,
     "metadata": {},
     "output_type": "execute_result"
    }
   ],
   "source": [
    "score_bow2"
   ]
  },
  {
   "cell_type": "markdown",
   "id": "0e682f8d",
   "metadata": {},
   "source": [
    "## 6.4 Model Tf-idf"
   ]
  },
  {
   "cell_type": "code",
   "execution_count": 95,
   "id": "3e84b7e4",
   "metadata": {},
   "outputs": [
    {
     "name": "stderr",
     "output_type": "stream",
     "text": [
      "100%|████████████████████████████████████████████████████████████████████████████████| 500/500 [04:34<00:00,  1.82it/s]\n"
     ]
    }
   ],
   "source": [
    "dict_score_tfidf, score_tfidf = loop_rec(data=df_fix,\n",
    "                                     metadata_col='metadata',\n",
    "                                     encoder='tfidf',\n",
    "                                     topn=5,\n",
    "                                     sample_list=idx_sample_list,\n",
    "                                     return_dict=True)"
   ]
  },
  {
   "cell_type": "code",
   "execution_count": 96,
   "id": "ea064913",
   "metadata": {},
   "outputs": [
    {
     "data": {
      "text/plain": [
       "0.37391988768724777"
      ]
     },
     "execution_count": 96,
     "metadata": {},
     "output_type": "execute_result"
    }
   ],
   "source": [
    "score_tfidf"
   ]
  },
  {
   "cell_type": "code",
   "execution_count": 97,
   "id": "1ac16eed",
   "metadata": {},
   "outputs": [
    {
     "name": "stderr",
     "output_type": "stream",
     "text": [
      "100%|████████████████████████████████████████████████████████████████████████████████| 500/500 [04:35<00:00,  1.82it/s]\n"
     ]
    }
   ],
   "source": [
    "dict_score_tfidf2, score_tfidf2 = loop_rec(data=df_fix,\n",
    "                                     metadata_col='metadata',\n",
    "                                     encoder='tfidf',\n",
    "                                     topn=5,\n",
    "                                     sample_list=idx_sample_list2,\n",
    "                                     return_dict=True)"
   ]
  },
  {
   "cell_type": "code",
   "execution_count": 98,
   "id": "c1f57676",
   "metadata": {},
   "outputs": [
    {
     "data": {
      "text/plain": [
       "0.3746538743073661"
      ]
     },
     "execution_count": 98,
     "metadata": {},
     "output_type": "execute_result"
    }
   ],
   "source": [
    "score_tfidf2"
   ]
  },
  {
   "cell_type": "code",
   "execution_count": 100,
   "id": "7b48f9d8",
   "metadata": {},
   "outputs": [
    {
     "data": {
      "text/html": [
       "<div>\n",
       "<style scoped>\n",
       "    .dataframe tbody tr th:only-of-type {\n",
       "        vertical-align: middle;\n",
       "    }\n",
       "\n",
       "    .dataframe tbody tr th {\n",
       "        vertical-align: top;\n",
       "    }\n",
       "\n",
       "    .dataframe thead th {\n",
       "        text-align: right;\n",
       "    }\n",
       "</style>\n",
       "<table border=\"1\" class=\"dataframe\">\n",
       "  <thead>\n",
       "    <tr style=\"text-align: right;\">\n",
       "      <th></th>\n",
       "      <th>Tf-Idf</th>\n",
       "      <th>BoW</th>\n",
       "    </tr>\n",
       "  </thead>\n",
       "  <tbody>\n",
       "    <tr>\n",
       "      <th>0</th>\n",
       "      <td>0.373920</td>\n",
       "      <td>0.388081</td>\n",
       "    </tr>\n",
       "    <tr>\n",
       "      <th>1</th>\n",
       "      <td>0.374654</td>\n",
       "      <td>0.397542</td>\n",
       "    </tr>\n",
       "  </tbody>\n",
       "</table>\n",
       "</div>"
      ],
      "text/plain": [
       "     Tf-Idf       BoW\n",
       "0  0.373920  0.388081\n",
       "1  0.374654  0.397542"
      ]
     },
     "execution_count": 100,
     "metadata": {},
     "output_type": "execute_result"
    }
   ],
   "source": [
    "pd.DataFrame({\n",
    "    'Tf-Idf':[score_tfidf, score_tfidf2],\n",
    "    'BoW':[score_bow, score_bow2]\n",
    "})"
   ]
  },
  {
   "cell_type": "code",
   "execution_count": null,
   "id": "b9da836d",
   "metadata": {},
   "outputs": [],
   "source": []
  }
 ],
 "metadata": {
  "kernelspec": {
   "display_name": "Python [conda env:my_env]",
   "language": "python",
   "name": "conda-env-my_env-py"
  },
  "language_info": {
   "codemirror_mode": {
    "name": "ipython",
    "version": 3
   },
   "file_extension": ".py",
   "mimetype": "text/x-python",
   "name": "python",
   "nbconvert_exporter": "python",
   "pygments_lexer": "ipython3",
   "version": "3.7.6"
  },
  "varInspector": {
   "cols": {
    "lenName": 16,
    "lenType": 16,
    "lenVar": 40
   },
   "kernels_config": {
    "python": {
     "delete_cmd_postfix": "",
     "delete_cmd_prefix": "del ",
     "library": "var_list.py",
     "varRefreshCmd": "print(var_dic_list())"
    },
    "r": {
     "delete_cmd_postfix": ") ",
     "delete_cmd_prefix": "rm(",
     "library": "var_list.r",
     "varRefreshCmd": "cat(var_dic_list()) "
    }
   },
   "types_to_exclude": [
    "module",
    "function",
    "builtin_function_or_method",
    "instance",
    "_Feature"
   ],
   "window_display": false
  }
 },
 "nbformat": 4,
 "nbformat_minor": 5
}
